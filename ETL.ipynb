{
 "cells": [
  {
   "cell_type": "code",
   "execution_count": 1,
   "metadata": {},
   "outputs": [],
   "source": [
    "# Import dependencies \n",
    "import pandas as pd"
   ]
  },
  {
   "cell_type": "code",
   "execution_count": 2,
   "metadata": {},
   "outputs": [
    {
     "name": "stdout",
     "output_type": "stream",
     "text": [
      "   fips  year       temp      tempc\n",
      "0     1  1895  61.641667  16.467593\n",
      "1     1  1896  64.266667  17.925926\n",
      "2     1  1897  64.191667  17.884259\n",
      "3     1  1898  62.983333  17.212963\n",
      "4     1  1899  63.100000  17.277778\n",
      "(6000, 4)\n"
     ]
    }
   ],
   "source": [
    "# Read in data set \n",
    "df1 = pd.read_csv('Resources/climdiv_state_year.csv')\n",
    "print(df1.head())\n",
    "print(df1.shape)"
   ]
  },
  {
   "cell_type": "code",
   "execution_count": 3,
   "metadata": {},
   "outputs": [
    {
     "data": {
      "text/plain": [
       "fips       int64\n",
       "year       int64\n",
       "temp     float64\n",
       "tempc    float64\n",
       "dtype: object"
      ]
     },
     "execution_count": 3,
     "metadata": {},
     "output_type": "execute_result"
    }
   ],
   "source": [
    "# Check data types\n",
    "df1.dtypes"
   ]
  },
  {
   "cell_type": "code",
   "execution_count": 4,
   "metadata": {},
   "outputs": [
    {
     "data": {
      "text/plain": [
       "fips     0\n",
       "year     0\n",
       "temp     0\n",
       "tempc    0\n",
       "dtype: int64"
      ]
     },
     "execution_count": 4,
     "metadata": {},
     "output_type": "execute_result"
    }
   ],
   "source": [
    "# Check for empty rows\n",
    "df1.isnull().sum()"
   ]
  },
  {
   "cell_type": "code",
   "execution_count": 5,
   "metadata": {},
   "outputs": [],
   "source": [
    "# Create state dictionary\n",
    "state_dict = {\n",
    "    1: ['Alabama','AL'], 2: ['Alaska','AK'], 4: ['Arizona','AZ'], 5: ['Arkansas','AR'], \n",
    "    6: ['California','CA'], 8: ['Colorado','CO'], 9: ['Connecticut','CT'], 10: ['Delaware','DE'], \n",
    "    11: ['District of Columbia','DC'], 12: ['Florida','FL'], 13: ['Georgia','GA'], 15: ['Hawaii','HI'],\n",
    "    16: ['Idaho','ID'], 17: ['Illinois','IL'], 18: ['Indiana','IN'], 19: ['Iowa','IA'], \n",
    "    20: ['Kansas','KS'], 21: ['Kentucky','KY'], 22: ['Louisiana','LA'], 23: ['Maine','ME'],\n",
    "    24: ['Maryland','MD'], 25: ['Massachusetts','MA'], 26: ['Michigan','MI'], 27: ['Minnesota','MN'],\n",
    "    28: ['Mississippi','MS'], 29: ['Missouri','MO'], 30: ['Montana','MT'], 31: ['Nebraska','NE'], \n",
    "    32: ['Nevada','NV'], 33: ['New Hampshire','NH'], 34: ['New Jersey','NJ'], 35: ['New Mexico','NM'], \n",
    "    36: ['New York','NY'], 37: ['North Carolina','NC'], 38: ['North Dakota','ND'], 39: ['Ohio','OH'],\n",
    "    40: ['Oklahoma','OK'], 41: ['Oregon','OR'], 42: ['Pennsylvania','PA'], 44: ['Rhode Island','RI'], \n",
    "    45: ['South Carolina','SC'], 46: ['South Dakota','SD'], 47: ['Tennessee','TN'], 48: ['Texas','TX'], \n",
    "    49: ['Utah','UT'], 50: ['Vermont','VT'], 51: ['Virginia','VA'], 53: ['Washington','WA'], \n",
    "    54: ['West Virginia','WV'], 55: ['Wisconsin','WI'], 56: ['Wyoming','WY'], 60: ['American Samoa','AS'], \n",
    "    66: ['Guam','GU'], 69: ['Northern Mariana Islands','MP'], 72: ['Puerto Rico','PR'], \n",
    "    74: ['U.S. Minor Outlying Islands','UM'], 78: ['U.S. Virgin Islands','VI']\n",
    "}"
   ]
  },
  {
   "cell_type": "code",
   "execution_count": 6,
   "metadata": {},
   "outputs": [
    {
     "data": {
      "text/html": [
       "<div>\n",
       "<style scoped>\n",
       "    .dataframe tbody tr th:only-of-type {\n",
       "        vertical-align: middle;\n",
       "    }\n",
       "\n",
       "    .dataframe tbody tr th {\n",
       "        vertical-align: top;\n",
       "    }\n",
       "\n",
       "    .dataframe thead th {\n",
       "        text-align: right;\n",
       "    }\n",
       "</style>\n",
       "<table border=\"1\" class=\"dataframe\">\n",
       "  <thead>\n",
       "    <tr style=\"text-align: right;\">\n",
       "      <th></th>\n",
       "      <th>fips</th>\n",
       "      <th>year</th>\n",
       "      <th>temp</th>\n",
       "      <th>tempc</th>\n",
       "    </tr>\n",
       "  </thead>\n",
       "  <tbody>\n",
       "    <tr>\n",
       "      <th>0</th>\n",
       "      <td>Alabama</td>\n",
       "      <td>1895</td>\n",
       "      <td>61.641667</td>\n",
       "      <td>16.467593</td>\n",
       "    </tr>\n",
       "    <tr>\n",
       "      <th>1</th>\n",
       "      <td>Alabama</td>\n",
       "      <td>1896</td>\n",
       "      <td>64.266667</td>\n",
       "      <td>17.925926</td>\n",
       "    </tr>\n",
       "    <tr>\n",
       "      <th>2</th>\n",
       "      <td>Alabama</td>\n",
       "      <td>1897</td>\n",
       "      <td>64.191667</td>\n",
       "      <td>17.884259</td>\n",
       "    </tr>\n",
       "    <tr>\n",
       "      <th>3</th>\n",
       "      <td>Alabama</td>\n",
       "      <td>1898</td>\n",
       "      <td>62.983333</td>\n",
       "      <td>17.212963</td>\n",
       "    </tr>\n",
       "    <tr>\n",
       "      <th>4</th>\n",
       "      <td>Alabama</td>\n",
       "      <td>1899</td>\n",
       "      <td>63.100000</td>\n",
       "      <td>17.277778</td>\n",
       "    </tr>\n",
       "    <tr>\n",
       "      <th>...</th>\n",
       "      <td>...</td>\n",
       "      <td>...</td>\n",
       "      <td>...</td>\n",
       "      <td>...</td>\n",
       "    </tr>\n",
       "    <tr>\n",
       "      <th>5995</th>\n",
       "      <td>Wyoming</td>\n",
       "      <td>2015</td>\n",
       "      <td>44.158333</td>\n",
       "      <td>6.754630</td>\n",
       "    </tr>\n",
       "    <tr>\n",
       "      <th>5996</th>\n",
       "      <td>Wyoming</td>\n",
       "      <td>2016</td>\n",
       "      <td>43.908333</td>\n",
       "      <td>6.615741</td>\n",
       "    </tr>\n",
       "    <tr>\n",
       "      <th>5997</th>\n",
       "      <td>Wyoming</td>\n",
       "      <td>2017</td>\n",
       "      <td>43.200000</td>\n",
       "      <td>6.222222</td>\n",
       "    </tr>\n",
       "    <tr>\n",
       "      <th>5998</th>\n",
       "      <td>Wyoming</td>\n",
       "      <td>2018</td>\n",
       "      <td>42.408333</td>\n",
       "      <td>5.782407</td>\n",
       "    </tr>\n",
       "    <tr>\n",
       "      <th>5999</th>\n",
       "      <td>Wyoming</td>\n",
       "      <td>2019</td>\n",
       "      <td>40.383333</td>\n",
       "      <td>4.657407</td>\n",
       "    </tr>\n",
       "  </tbody>\n",
       "</table>\n",
       "<p>6000 rows × 4 columns</p>\n",
       "</div>"
      ],
      "text/plain": [
       "         fips  year       temp      tempc\n",
       "0     Alabama  1895  61.641667  16.467593\n",
       "1     Alabama  1896  64.266667  17.925926\n",
       "2     Alabama  1897  64.191667  17.884259\n",
       "3     Alabama  1898  62.983333  17.212963\n",
       "4     Alabama  1899  63.100000  17.277778\n",
       "...       ...   ...        ...        ...\n",
       "5995  Wyoming  2015  44.158333   6.754630\n",
       "5996  Wyoming  2016  43.908333   6.615741\n",
       "5997  Wyoming  2017  43.200000   6.222222\n",
       "5998  Wyoming  2018  42.408333   5.782407\n",
       "5999  Wyoming  2019  40.383333   4.657407\n",
       "\n",
       "[6000 rows x 4 columns]"
      ]
     },
     "execution_count": 6,
     "metadata": {},
     "output_type": "execute_result"
    }
   ],
   "source": [
    "# Replace fips column with state names\n",
    "df1['fips'] = df1['fips'].apply(lambda x: state_dict[x][0])\n",
    "df1"
   ]
  },
  {
   "cell_type": "code",
   "execution_count": 7,
   "metadata": {},
   "outputs": [
    {
     "data": {
      "text/html": [
       "<div>\n",
       "<style scoped>\n",
       "    .dataframe tbody tr th:only-of-type {\n",
       "        vertical-align: middle;\n",
       "    }\n",
       "\n",
       "    .dataframe tbody tr th {\n",
       "        vertical-align: top;\n",
       "    }\n",
       "\n",
       "    .dataframe thead th {\n",
       "        text-align: right;\n",
       "    }\n",
       "</style>\n",
       "<table border=\"1\" class=\"dataframe\">\n",
       "  <thead>\n",
       "    <tr style=\"text-align: right;\">\n",
       "      <th></th>\n",
       "      <th>state</th>\n",
       "      <th>year</th>\n",
       "      <th>tempf</th>\n",
       "      <th>tempc</th>\n",
       "    </tr>\n",
       "  </thead>\n",
       "  <tbody>\n",
       "    <tr>\n",
       "      <th>0</th>\n",
       "      <td>Alabama</td>\n",
       "      <td>1895</td>\n",
       "      <td>61.641667</td>\n",
       "      <td>16.467593</td>\n",
       "    </tr>\n",
       "    <tr>\n",
       "      <th>1</th>\n",
       "      <td>Alabama</td>\n",
       "      <td>1896</td>\n",
       "      <td>64.266667</td>\n",
       "      <td>17.925926</td>\n",
       "    </tr>\n",
       "    <tr>\n",
       "      <th>2</th>\n",
       "      <td>Alabama</td>\n",
       "      <td>1897</td>\n",
       "      <td>64.191667</td>\n",
       "      <td>17.884259</td>\n",
       "    </tr>\n",
       "    <tr>\n",
       "      <th>3</th>\n",
       "      <td>Alabama</td>\n",
       "      <td>1898</td>\n",
       "      <td>62.983333</td>\n",
       "      <td>17.212963</td>\n",
       "    </tr>\n",
       "    <tr>\n",
       "      <th>4</th>\n",
       "      <td>Alabama</td>\n",
       "      <td>1899</td>\n",
       "      <td>63.100000</td>\n",
       "      <td>17.277778</td>\n",
       "    </tr>\n",
       "    <tr>\n",
       "      <th>...</th>\n",
       "      <td>...</td>\n",
       "      <td>...</td>\n",
       "      <td>...</td>\n",
       "      <td>...</td>\n",
       "    </tr>\n",
       "    <tr>\n",
       "      <th>5995</th>\n",
       "      <td>Wyoming</td>\n",
       "      <td>2015</td>\n",
       "      <td>44.158333</td>\n",
       "      <td>6.754630</td>\n",
       "    </tr>\n",
       "    <tr>\n",
       "      <th>5996</th>\n",
       "      <td>Wyoming</td>\n",
       "      <td>2016</td>\n",
       "      <td>43.908333</td>\n",
       "      <td>6.615741</td>\n",
       "    </tr>\n",
       "    <tr>\n",
       "      <th>5997</th>\n",
       "      <td>Wyoming</td>\n",
       "      <td>2017</td>\n",
       "      <td>43.200000</td>\n",
       "      <td>6.222222</td>\n",
       "    </tr>\n",
       "    <tr>\n",
       "      <th>5998</th>\n",
       "      <td>Wyoming</td>\n",
       "      <td>2018</td>\n",
       "      <td>42.408333</td>\n",
       "      <td>5.782407</td>\n",
       "    </tr>\n",
       "    <tr>\n",
       "      <th>5999</th>\n",
       "      <td>Wyoming</td>\n",
       "      <td>2019</td>\n",
       "      <td>40.383333</td>\n",
       "      <td>4.657407</td>\n",
       "    </tr>\n",
       "  </tbody>\n",
       "</table>\n",
       "<p>6000 rows × 4 columns</p>\n",
       "</div>"
      ],
      "text/plain": [
       "        state  year      tempf      tempc\n",
       "0     Alabama  1895  61.641667  16.467593\n",
       "1     Alabama  1896  64.266667  17.925926\n",
       "2     Alabama  1897  64.191667  17.884259\n",
       "3     Alabama  1898  62.983333  17.212963\n",
       "4     Alabama  1899  63.100000  17.277778\n",
       "...       ...   ...        ...        ...\n",
       "5995  Wyoming  2015  44.158333   6.754630\n",
       "5996  Wyoming  2016  43.908333   6.615741\n",
       "5997  Wyoming  2017  43.200000   6.222222\n",
       "5998  Wyoming  2018  42.408333   5.782407\n",
       "5999  Wyoming  2019  40.383333   4.657407\n",
       "\n",
       "[6000 rows x 4 columns]"
      ]
     },
     "execution_count": 7,
     "metadata": {},
     "output_type": "execute_result"
    }
   ],
   "source": [
    "# Rename Columns\n",
    "df1.columns = ['state', 'year', 'tempf', 'tempc']\n",
    "df1"
   ]
  },
  {
   "cell_type": "code",
   "execution_count": null,
   "metadata": {},
   "outputs": [],
   "source": []
  },
  {
   "cell_type": "code",
   "execution_count": null,
   "metadata": {},
   "outputs": [],
   "source": []
  },
  {
   "cell_type": "code",
   "execution_count": null,
   "metadata": {},
   "outputs": [],
   "source": []
  }
 ],
 "metadata": {
  "kernelspec": {
   "display_name": "PythonData",
   "language": "python",
   "name": "pythondata"
  },
  "language_info": {
   "codemirror_mode": {
    "name": "ipython",
    "version": 3
   },
   "file_extension": ".py",
   "mimetype": "text/x-python",
   "name": "python",
   "nbconvert_exporter": "python",
   "pygments_lexer": "ipython3",
   "version": "3.7.7"
  }
 },
 "nbformat": 4,
 "nbformat_minor": 4
}
