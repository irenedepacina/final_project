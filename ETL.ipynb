{
 "cells": [
  {
   "cell_type": "code",
   "execution_count": 1,
   "metadata": {},
   "outputs": [],
   "source": [
    "# Import dependencies \n",
    "import pandas as pd"
   ]
  },
  {
   "cell_type": "markdown",
   "metadata": {},
   "source": [
    "# Clean climdiv_state_year.csv"
   ]
  },
  {
   "cell_type": "code",
   "execution_count": 2,
   "metadata": {},
   "outputs": [
    {
     "name": "stdout",
     "output_type": "stream",
     "text": [
      "(6000, 4)\n"
     ]
    },
    {
     "data": {
      "text/html": [
       "<div>\n",
       "<style scoped>\n",
       "    .dataframe tbody tr th:only-of-type {\n",
       "        vertical-align: middle;\n",
       "    }\n",
       "\n",
       "    .dataframe tbody tr th {\n",
       "        vertical-align: top;\n",
       "    }\n",
       "\n",
       "    .dataframe thead th {\n",
       "        text-align: right;\n",
       "    }\n",
       "</style>\n",
       "<table border=\"1\" class=\"dataframe\">\n",
       "  <thead>\n",
       "    <tr style=\"text-align: right;\">\n",
       "      <th></th>\n",
       "      <th>fips</th>\n",
       "      <th>year</th>\n",
       "      <th>temp</th>\n",
       "      <th>tempc</th>\n",
       "    </tr>\n",
       "  </thead>\n",
       "  <tbody>\n",
       "    <tr>\n",
       "      <th>0</th>\n",
       "      <td>1</td>\n",
       "      <td>1895</td>\n",
       "      <td>61.641667</td>\n",
       "      <td>16.467593</td>\n",
       "    </tr>\n",
       "    <tr>\n",
       "      <th>1</th>\n",
       "      <td>1</td>\n",
       "      <td>1896</td>\n",
       "      <td>64.266667</td>\n",
       "      <td>17.925926</td>\n",
       "    </tr>\n",
       "    <tr>\n",
       "      <th>2</th>\n",
       "      <td>1</td>\n",
       "      <td>1897</td>\n",
       "      <td>64.191667</td>\n",
       "      <td>17.884259</td>\n",
       "    </tr>\n",
       "    <tr>\n",
       "      <th>3</th>\n",
       "      <td>1</td>\n",
       "      <td>1898</td>\n",
       "      <td>62.983333</td>\n",
       "      <td>17.212963</td>\n",
       "    </tr>\n",
       "    <tr>\n",
       "      <th>4</th>\n",
       "      <td>1</td>\n",
       "      <td>1899</td>\n",
       "      <td>63.100000</td>\n",
       "      <td>17.277778</td>\n",
       "    </tr>\n",
       "  </tbody>\n",
       "</table>\n",
       "</div>"
      ],
      "text/plain": [
       "   fips  year       temp      tempc\n",
       "0     1  1895  61.641667  16.467593\n",
       "1     1  1896  64.266667  17.925926\n",
       "2     1  1897  64.191667  17.884259\n",
       "3     1  1898  62.983333  17.212963\n",
       "4     1  1899  63.100000  17.277778"
      ]
     },
     "execution_count": 2,
     "metadata": {},
     "output_type": "execute_result"
    }
   ],
   "source": [
    "# Read in data set\n",
    "df1 = pd.read_csv('Resources/data_raw/climdiv_state_year.csv')\n",
    "print(df1.shape)\n",
    "df1.head()"
   ]
  },
  {
   "cell_type": "code",
   "execution_count": 3,
   "metadata": {},
   "outputs": [
    {
     "data": {
      "text/plain": [
       "fips       int64\n",
       "year       int64\n",
       "temp     float64\n",
       "tempc    float64\n",
       "dtype: object"
      ]
     },
     "execution_count": 3,
     "metadata": {},
     "output_type": "execute_result"
    }
   ],
   "source": [
    "# Check data types\n",
    "df1.dtypes"
   ]
  },
  {
   "cell_type": "code",
   "execution_count": 4,
   "metadata": {},
   "outputs": [
    {
     "data": {
      "text/plain": [
       "fips     0\n",
       "year     0\n",
       "temp     0\n",
       "tempc    0\n",
       "dtype: int64"
      ]
     },
     "execution_count": 4,
     "metadata": {},
     "output_type": "execute_result"
    }
   ],
   "source": [
    "# Check for null values\n",
    "df1.isnull().sum()"
   ]
  },
  {
   "cell_type": "code",
   "execution_count": 5,
   "metadata": {},
   "outputs": [],
   "source": [
    "# Create state dictionary\n",
    "state_dict = {\n",
    "    1: ['Alabama','AL'], 2: ['Alaska','AK'], 4: ['Arizona','AZ'], 5: ['Arkansas','AR'], \n",
    "    6: ['California','CA'], 8: ['Colorado','CO'], 9: ['Connecticut','CT'], 10: ['Delaware','DE'], \n",
    "    11: ['District of Columbia','DC'], 12: ['Florida','FL'], 13: ['Georgia','GA'], 15: ['Hawaii','HI'],\n",
    "    16: ['Idaho','ID'], 17: ['Illinois','IL'], 18: ['Indiana','IN'], 19: ['Iowa','IA'], \n",
    "    20: ['Kansas','KS'], 21: ['Kentucky','KY'], 22: ['Louisiana','LA'], 23: ['Maine','ME'],\n",
    "    24: ['Maryland','MD'], 25: ['Massachusetts','MA'], 26: ['Michigan','MI'], 27: ['Minnesota','MN'],\n",
    "    28: ['Mississippi','MS'], 29: ['Missouri','MO'], 30: ['Montana','MT'], 31: ['Nebraska','NE'], \n",
    "    32: ['Nevada','NV'], 33: ['New Hampshire','NH'], 34: ['New Jersey','NJ'], 35: ['New Mexico','NM'], \n",
    "    36: ['New York','NY'], 37: ['North Carolina','NC'], 38: ['North Dakota','ND'], 39: ['Ohio','OH'],\n",
    "    40: ['Oklahoma','OK'], 41: ['Oregon','OR'], 42: ['Pennsylvania','PA'], 44: ['Rhode Island','RI'], \n",
    "    45: ['South Carolina','SC'], 46: ['South Dakota','SD'], 47: ['Tennessee','TN'], 48: ['Texas','TX'], \n",
    "    49: ['Utah','UT'], 50: ['Vermont','VT'], 51: ['Virginia','VA'], 53: ['Washington','WA'], \n",
    "    54: ['West Virginia','WV'], 55: ['Wisconsin','WI'], 56: ['Wyoming','WY'], 60: ['American Samoa','AS'], \n",
    "    66: ['Guam','GU'], 69: ['Northern Mariana Islands','MP'], 72: ['Puerto Rico','PR'], \n",
    "    74: ['U.S. Minor Outlying Islands','UM'], 78: ['U.S. Virgin Islands','VI']\n",
    "}"
   ]
  },
  {
   "cell_type": "code",
   "execution_count": 6,
   "metadata": {},
   "outputs": [
    {
     "data": {
      "text/html": [
       "<div>\n",
       "<style scoped>\n",
       "    .dataframe tbody tr th:only-of-type {\n",
       "        vertical-align: middle;\n",
       "    }\n",
       "\n",
       "    .dataframe tbody tr th {\n",
       "        vertical-align: top;\n",
       "    }\n",
       "\n",
       "    .dataframe thead th {\n",
       "        text-align: right;\n",
       "    }\n",
       "</style>\n",
       "<table border=\"1\" class=\"dataframe\">\n",
       "  <thead>\n",
       "    <tr style=\"text-align: right;\">\n",
       "      <th></th>\n",
       "      <th>year</th>\n",
       "      <th>temp</th>\n",
       "      <th>tempc</th>\n",
       "      <th>state</th>\n",
       "      <th>abb</th>\n",
       "    </tr>\n",
       "  </thead>\n",
       "  <tbody>\n",
       "    <tr>\n",
       "      <th>0</th>\n",
       "      <td>1895</td>\n",
       "      <td>61.641667</td>\n",
       "      <td>16.467593</td>\n",
       "      <td>Alabama</td>\n",
       "      <td>AL</td>\n",
       "    </tr>\n",
       "    <tr>\n",
       "      <th>1</th>\n",
       "      <td>1896</td>\n",
       "      <td>64.266667</td>\n",
       "      <td>17.925926</td>\n",
       "      <td>Alabama</td>\n",
       "      <td>AL</td>\n",
       "    </tr>\n",
       "    <tr>\n",
       "      <th>2</th>\n",
       "      <td>1897</td>\n",
       "      <td>64.191667</td>\n",
       "      <td>17.884259</td>\n",
       "      <td>Alabama</td>\n",
       "      <td>AL</td>\n",
       "    </tr>\n",
       "    <tr>\n",
       "      <th>3</th>\n",
       "      <td>1898</td>\n",
       "      <td>62.983333</td>\n",
       "      <td>17.212963</td>\n",
       "      <td>Alabama</td>\n",
       "      <td>AL</td>\n",
       "    </tr>\n",
       "    <tr>\n",
       "      <th>4</th>\n",
       "      <td>1899</td>\n",
       "      <td>63.100000</td>\n",
       "      <td>17.277778</td>\n",
       "      <td>Alabama</td>\n",
       "      <td>AL</td>\n",
       "    </tr>\n",
       "  </tbody>\n",
       "</table>\n",
       "</div>"
      ],
      "text/plain": [
       "   year       temp      tempc    state abb\n",
       "0  1895  61.641667  16.467593  Alabama  AL\n",
       "1  1896  64.266667  17.925926  Alabama  AL\n",
       "2  1897  64.191667  17.884259  Alabama  AL\n",
       "3  1898  62.983333  17.212963  Alabama  AL\n",
       "4  1899  63.100000  17.277778  Alabama  AL"
      ]
     },
     "execution_count": 6,
     "metadata": {},
     "output_type": "execute_result"
    }
   ],
   "source": [
    "# Replace fips column with a column for state names and their abbreviations\n",
    "df1['state'] = df1['fips'].apply(lambda x: state_dict[x][0])\n",
    "df1['abb'] = df1['fips'].apply(lambda x: state_dict[x][1])\n",
    "df1.drop('fips', axis = 'columns', inplace = True)\n",
    "df1.head()"
   ]
  },
  {
   "cell_type": "code",
   "execution_count": 7,
   "metadata": {},
   "outputs": [
    {
     "name": "stdout",
     "output_type": "stream",
     "text": [
      "(6000, 5)\n"
     ]
    },
    {
     "data": {
      "text/html": [
       "<div>\n",
       "<style scoped>\n",
       "    .dataframe tbody tr th:only-of-type {\n",
       "        vertical-align: middle;\n",
       "    }\n",
       "\n",
       "    .dataframe tbody tr th {\n",
       "        vertical-align: top;\n",
       "    }\n",
       "\n",
       "    .dataframe thead th {\n",
       "        text-align: right;\n",
       "    }\n",
       "</style>\n",
       "<table border=\"1\" class=\"dataframe\">\n",
       "  <thead>\n",
       "    <tr style=\"text-align: right;\">\n",
       "      <th></th>\n",
       "      <th>state</th>\n",
       "      <th>abb</th>\n",
       "      <th>year</th>\n",
       "      <th>tempf</th>\n",
       "      <th>tempc</th>\n",
       "    </tr>\n",
       "  </thead>\n",
       "  <tbody>\n",
       "    <tr>\n",
       "      <th>0</th>\n",
       "      <td>Alabama</td>\n",
       "      <td>AL</td>\n",
       "      <td>1895</td>\n",
       "      <td>61.641667</td>\n",
       "      <td>16.467593</td>\n",
       "    </tr>\n",
       "    <tr>\n",
       "      <th>1</th>\n",
       "      <td>Alabama</td>\n",
       "      <td>AL</td>\n",
       "      <td>1896</td>\n",
       "      <td>64.266667</td>\n",
       "      <td>17.925926</td>\n",
       "    </tr>\n",
       "    <tr>\n",
       "      <th>2</th>\n",
       "      <td>Alabama</td>\n",
       "      <td>AL</td>\n",
       "      <td>1897</td>\n",
       "      <td>64.191667</td>\n",
       "      <td>17.884259</td>\n",
       "    </tr>\n",
       "    <tr>\n",
       "      <th>3</th>\n",
       "      <td>Alabama</td>\n",
       "      <td>AL</td>\n",
       "      <td>1898</td>\n",
       "      <td>62.983333</td>\n",
       "      <td>17.212963</td>\n",
       "    </tr>\n",
       "    <tr>\n",
       "      <th>4</th>\n",
       "      <td>Alabama</td>\n",
       "      <td>AL</td>\n",
       "      <td>1899</td>\n",
       "      <td>63.100000</td>\n",
       "      <td>17.277778</td>\n",
       "    </tr>\n",
       "  </tbody>\n",
       "</table>\n",
       "</div>"
      ],
      "text/plain": [
       "     state abb  year      tempf      tempc\n",
       "0  Alabama  AL  1895  61.641667  16.467593\n",
       "1  Alabama  AL  1896  64.266667  17.925926\n",
       "2  Alabama  AL  1897  64.191667  17.884259\n",
       "3  Alabama  AL  1898  62.983333  17.212963\n",
       "4  Alabama  AL  1899  63.100000  17.277778"
      ]
     },
     "execution_count": 7,
     "metadata": {},
     "output_type": "execute_result"
    }
   ],
   "source": [
    "# Rename Columns\n",
    "df1.columns = ['year', 'tempf', 'tempc', 'state', 'abb']\n",
    "\n",
    "# Re-arrange Columns\n",
    "df1 = df1[['state','abb', 'year', 'tempf', 'tempc']].copy()\n",
    "print(df1.shape)\n",
    "df1.head()"
   ]
  },
  {
   "cell_type": "markdown",
   "metadata": {},
   "source": [
    "# Clean climdiv_national_year.csv"
   ]
  },
  {
   "cell_type": "code",
   "execution_count": 8,
   "metadata": {},
   "outputs": [
    {
     "name": "stdout",
     "output_type": "stream",
     "text": [
      "(125, 3)\n"
     ]
    },
    {
     "data": {
      "text/html": [
       "<div>\n",
       "<style scoped>\n",
       "    .dataframe tbody tr th:only-of-type {\n",
       "        vertical-align: middle;\n",
       "    }\n",
       "\n",
       "    .dataframe tbody tr th {\n",
       "        vertical-align: top;\n",
       "    }\n",
       "\n",
       "    .dataframe thead th {\n",
       "        text-align: right;\n",
       "    }\n",
       "</style>\n",
       "<table border=\"1\" class=\"dataframe\">\n",
       "  <thead>\n",
       "    <tr style=\"text-align: right;\">\n",
       "      <th></th>\n",
       "      <th>year</th>\n",
       "      <th>temp</th>\n",
       "      <th>tempc</th>\n",
       "    </tr>\n",
       "  </thead>\n",
       "  <tbody>\n",
       "    <tr>\n",
       "      <th>0</th>\n",
       "      <td>1895</td>\n",
       "      <td>50.337500</td>\n",
       "      <td>10.187500</td>\n",
       "    </tr>\n",
       "    <tr>\n",
       "      <th>1</th>\n",
       "      <td>1896</td>\n",
       "      <td>51.993333</td>\n",
       "      <td>11.107407</td>\n",
       "    </tr>\n",
       "    <tr>\n",
       "      <th>2</th>\n",
       "      <td>1897</td>\n",
       "      <td>51.556667</td>\n",
       "      <td>10.864815</td>\n",
       "    </tr>\n",
       "    <tr>\n",
       "      <th>3</th>\n",
       "      <td>1898</td>\n",
       "      <td>51.431667</td>\n",
       "      <td>10.795370</td>\n",
       "    </tr>\n",
       "    <tr>\n",
       "      <th>4</th>\n",
       "      <td>1899</td>\n",
       "      <td>51.009167</td>\n",
       "      <td>10.560648</td>\n",
       "    </tr>\n",
       "  </tbody>\n",
       "</table>\n",
       "</div>"
      ],
      "text/plain": [
       "   year       temp      tempc\n",
       "0  1895  50.337500  10.187500\n",
       "1  1896  51.993333  11.107407\n",
       "2  1897  51.556667  10.864815\n",
       "3  1898  51.431667  10.795370\n",
       "4  1899  51.009167  10.560648"
      ]
     },
     "execution_count": 8,
     "metadata": {},
     "output_type": "execute_result"
    }
   ],
   "source": [
    "# Read in data set\n",
    "df2 = pd.read_csv('Resources/data_raw/climdiv_national_year.csv')\n",
    "print(df2.shape)\n",
    "df2.head()"
   ]
  },
  {
   "cell_type": "code",
   "execution_count": 9,
   "metadata": {},
   "outputs": [
    {
     "data": {
      "text/plain": [
       "year       int64\n",
       "temp     float64\n",
       "tempc    float64\n",
       "dtype: object"
      ]
     },
     "execution_count": 9,
     "metadata": {},
     "output_type": "execute_result"
    }
   ],
   "source": [
    "# Check data types\n",
    "df2.dtypes"
   ]
  },
  {
   "cell_type": "code",
   "execution_count": 10,
   "metadata": {},
   "outputs": [
    {
     "data": {
      "text/plain": [
       "year     0\n",
       "temp     0\n",
       "tempc    0\n",
       "dtype: int64"
      ]
     },
     "execution_count": 10,
     "metadata": {},
     "output_type": "execute_result"
    }
   ],
   "source": [
    "# Check for null values\n",
    "df2.isnull().sum()"
   ]
  },
  {
   "cell_type": "code",
   "execution_count": 11,
   "metadata": {},
   "outputs": [
    {
     "name": "stdout",
     "output_type": "stream",
     "text": [
      "(125, 3)\n"
     ]
    },
    {
     "data": {
      "text/html": [
       "<div>\n",
       "<style scoped>\n",
       "    .dataframe tbody tr th:only-of-type {\n",
       "        vertical-align: middle;\n",
       "    }\n",
       "\n",
       "    .dataframe tbody tr th {\n",
       "        vertical-align: top;\n",
       "    }\n",
       "\n",
       "    .dataframe thead th {\n",
       "        text-align: right;\n",
       "    }\n",
       "</style>\n",
       "<table border=\"1\" class=\"dataframe\">\n",
       "  <thead>\n",
       "    <tr style=\"text-align: right;\">\n",
       "      <th></th>\n",
       "      <th>year</th>\n",
       "      <th>tempf</th>\n",
       "      <th>tempc</th>\n",
       "    </tr>\n",
       "  </thead>\n",
       "  <tbody>\n",
       "    <tr>\n",
       "      <th>0</th>\n",
       "      <td>1895</td>\n",
       "      <td>50.337500</td>\n",
       "      <td>10.187500</td>\n",
       "    </tr>\n",
       "    <tr>\n",
       "      <th>1</th>\n",
       "      <td>1896</td>\n",
       "      <td>51.993333</td>\n",
       "      <td>11.107407</td>\n",
       "    </tr>\n",
       "    <tr>\n",
       "      <th>2</th>\n",
       "      <td>1897</td>\n",
       "      <td>51.556667</td>\n",
       "      <td>10.864815</td>\n",
       "    </tr>\n",
       "    <tr>\n",
       "      <th>3</th>\n",
       "      <td>1898</td>\n",
       "      <td>51.431667</td>\n",
       "      <td>10.795370</td>\n",
       "    </tr>\n",
       "    <tr>\n",
       "      <th>4</th>\n",
       "      <td>1899</td>\n",
       "      <td>51.009167</td>\n",
       "      <td>10.560648</td>\n",
       "    </tr>\n",
       "  </tbody>\n",
       "</table>\n",
       "</div>"
      ],
      "text/plain": [
       "   year      tempf      tempc\n",
       "0  1895  50.337500  10.187500\n",
       "1  1896  51.993333  11.107407\n",
       "2  1897  51.556667  10.864815\n",
       "3  1898  51.431667  10.795370\n",
       "4  1899  51.009167  10.560648"
      ]
     },
     "execution_count": 11,
     "metadata": {},
     "output_type": "execute_result"
    }
   ],
   "source": [
    "# Rename Columns\n",
    "df2.columns = ['year', 'tempf', 'tempc']\n",
    "print(df2.shape)\n",
    "df2.head()"
   ]
  },
  {
   "cell_type": "markdown",
   "metadata": {},
   "source": [
    "# Clean model_state.csv"
   ]
  },
  {
   "cell_type": "code",
   "execution_count": 12,
   "metadata": {},
   "outputs": [
    {
     "name": "stdout",
     "output_type": "stream",
     "text": [
      "(48, 10)\n"
     ]
    },
    {
     "data": {
      "text/html": [
       "<div>\n",
       "<style scoped>\n",
       "    .dataframe tbody tr th:only-of-type {\n",
       "        vertical-align: middle;\n",
       "    }\n",
       "\n",
       "    .dataframe tbody tr th {\n",
       "        vertical-align: top;\n",
       "    }\n",
       "\n",
       "    .dataframe thead th {\n",
       "        text-align: right;\n",
       "    }\n",
       "</style>\n",
       "<table border=\"1\" class=\"dataframe\">\n",
       "  <thead>\n",
       "    <tr style=\"text-align: right;\">\n",
       "      <th></th>\n",
       "      <th>fips</th>\n",
       "      <th>Fall</th>\n",
       "      <th>Spring</th>\n",
       "      <th>Summer</th>\n",
       "      <th>Winter</th>\n",
       "      <th>max_warming_season</th>\n",
       "      <th>Annual</th>\n",
       "      <th>STUSAB</th>\n",
       "      <th>STATE_NAME</th>\n",
       "      <th>STATENS</th>\n",
       "    </tr>\n",
       "  </thead>\n",
       "  <tbody>\n",
       "    <tr>\n",
       "      <th>0</th>\n",
       "      <td>1</td>\n",
       "      <td>-0.195668</td>\n",
       "      <td>-0.105862</td>\n",
       "      <td>-0.325009</td>\n",
       "      <td>0.458526</td>\n",
       "      <td>Winter</td>\n",
       "      <td>-0.035048</td>\n",
       "      <td>AL</td>\n",
       "      <td>Alabama</td>\n",
       "      <td>1779775</td>\n",
       "    </tr>\n",
       "    <tr>\n",
       "      <th>1</th>\n",
       "      <td>4</td>\n",
       "      <td>1.203951</td>\n",
       "      <td>1.384480</td>\n",
       "      <td>1.274455</td>\n",
       "      <td>1.388388</td>\n",
       "      <td>Winter</td>\n",
       "      <td>1.319880</td>\n",
       "      <td>AZ</td>\n",
       "      <td>Arizona</td>\n",
       "      <td>1779777</td>\n",
       "    </tr>\n",
       "    <tr>\n",
       "      <th>2</th>\n",
       "      <td>5</td>\n",
       "      <td>-0.042540</td>\n",
       "      <td>0.266399</td>\n",
       "      <td>0.058596</td>\n",
       "      <td>0.532247</td>\n",
       "      <td>Winter</td>\n",
       "      <td>0.214074</td>\n",
       "      <td>AR</td>\n",
       "      <td>Arkansas</td>\n",
       "      <td>68085</td>\n",
       "    </tr>\n",
       "    <tr>\n",
       "      <th>3</th>\n",
       "      <td>6</td>\n",
       "      <td>1.570921</td>\n",
       "      <td>1.449242</td>\n",
       "      <td>1.478335</td>\n",
       "      <td>1.412430</td>\n",
       "      <td>Fall</td>\n",
       "      <td>1.480561</td>\n",
       "      <td>CA</td>\n",
       "      <td>California</td>\n",
       "      <td>1779778</td>\n",
       "    </tr>\n",
       "    <tr>\n",
       "      <th>4</th>\n",
       "      <td>8</td>\n",
       "      <td>1.055309</td>\n",
       "      <td>1.436910</td>\n",
       "      <td>1.367845</td>\n",
       "      <td>1.838758</td>\n",
       "      <td>Winter</td>\n",
       "      <td>1.438589</td>\n",
       "      <td>CO</td>\n",
       "      <td>Colorado</td>\n",
       "      <td>1779779</td>\n",
       "    </tr>\n",
       "  </tbody>\n",
       "</table>\n",
       "</div>"
      ],
      "text/plain": [
       "   fips      Fall    Spring    Summer    Winter max_warming_season    Annual  \\\n",
       "0     1 -0.195668 -0.105862 -0.325009  0.458526             Winter -0.035048   \n",
       "1     4  1.203951  1.384480  1.274455  1.388388             Winter  1.319880   \n",
       "2     5 -0.042540  0.266399  0.058596  0.532247             Winter  0.214074   \n",
       "3     6  1.570921  1.449242  1.478335  1.412430               Fall  1.480561   \n",
       "4     8  1.055309  1.436910  1.367845  1.838758             Winter  1.438589   \n",
       "\n",
       "  STUSAB  STATE_NAME  STATENS  \n",
       "0     AL     Alabama  1779775  \n",
       "1     AZ     Arizona  1779777  \n",
       "2     AR    Arkansas    68085  \n",
       "3     CA  California  1779778  \n",
       "4     CO    Colorado  1779779  "
      ]
     },
     "execution_count": 12,
     "metadata": {},
     "output_type": "execute_result"
    }
   ],
   "source": [
    "# Read in file\n",
    "df3 = pd.read_csv('Resources/data_raw/model_state.csv')\n",
    "print(df3.shape)\n",
    "df3.head()"
   ]
  },
  {
   "cell_type": "code",
   "execution_count": 13,
   "metadata": {},
   "outputs": [
    {
     "data": {
      "text/plain": [
       "fips                    int64\n",
       "Fall                  float64\n",
       "Spring                float64\n",
       "Summer                float64\n",
       "Winter                float64\n",
       "max_warming_season     object\n",
       "Annual                float64\n",
       "STUSAB                 object\n",
       "STATE_NAME             object\n",
       "STATENS                 int64\n",
       "dtype: object"
      ]
     },
     "execution_count": 13,
     "metadata": {},
     "output_type": "execute_result"
    }
   ],
   "source": [
    "# Check data types\n",
    "df3.dtypes"
   ]
  },
  {
   "cell_type": "code",
   "execution_count": 14,
   "metadata": {},
   "outputs": [
    {
     "data": {
      "text/plain": [
       "fips                  0\n",
       "Fall                  0\n",
       "Spring                0\n",
       "Summer                0\n",
       "Winter                0\n",
       "max_warming_season    0\n",
       "Annual                0\n",
       "STUSAB                0\n",
       "STATE_NAME            0\n",
       "STATENS               0\n",
       "dtype: int64"
      ]
     },
     "execution_count": 14,
     "metadata": {},
     "output_type": "execute_result"
    }
   ],
   "source": [
    "# Check for null values\n",
    "df3.isnull().sum()"
   ]
  },
  {
   "cell_type": "code",
   "execution_count": 15,
   "metadata": {},
   "outputs": [
    {
     "name": "stdout",
     "output_type": "stream",
     "text": [
      "(48, 8)\n"
     ]
    },
    {
     "data": {
      "text/html": [
       "<div>\n",
       "<style scoped>\n",
       "    .dataframe tbody tr th:only-of-type {\n",
       "        vertical-align: middle;\n",
       "    }\n",
       "\n",
       "    .dataframe tbody tr th {\n",
       "        vertical-align: top;\n",
       "    }\n",
       "\n",
       "    .dataframe thead th {\n",
       "        text-align: right;\n",
       "    }\n",
       "</style>\n",
       "<table border=\"1\" class=\"dataframe\">\n",
       "  <thead>\n",
       "    <tr style=\"text-align: right;\">\n",
       "      <th></th>\n",
       "      <th>name</th>\n",
       "      <th>abb</th>\n",
       "      <th>annual</th>\n",
       "      <th>fall</th>\n",
       "      <th>spring</th>\n",
       "      <th>summer</th>\n",
       "      <th>winter</th>\n",
       "      <th>max_warming_season</th>\n",
       "    </tr>\n",
       "  </thead>\n",
       "  <tbody>\n",
       "    <tr>\n",
       "      <th>0</th>\n",
       "      <td>Alabama</td>\n",
       "      <td>AL</td>\n",
       "      <td>-0.035048</td>\n",
       "      <td>-0.195668</td>\n",
       "      <td>-0.105862</td>\n",
       "      <td>-0.325009</td>\n",
       "      <td>0.458526</td>\n",
       "      <td>Winter</td>\n",
       "    </tr>\n",
       "    <tr>\n",
       "      <th>1</th>\n",
       "      <td>Arizona</td>\n",
       "      <td>AZ</td>\n",
       "      <td>1.319880</td>\n",
       "      <td>1.203951</td>\n",
       "      <td>1.384480</td>\n",
       "      <td>1.274455</td>\n",
       "      <td>1.388388</td>\n",
       "      <td>Winter</td>\n",
       "    </tr>\n",
       "    <tr>\n",
       "      <th>2</th>\n",
       "      <td>Arkansas</td>\n",
       "      <td>AR</td>\n",
       "      <td>0.214074</td>\n",
       "      <td>-0.042540</td>\n",
       "      <td>0.266399</td>\n",
       "      <td>0.058596</td>\n",
       "      <td>0.532247</td>\n",
       "      <td>Winter</td>\n",
       "    </tr>\n",
       "    <tr>\n",
       "      <th>3</th>\n",
       "      <td>California</td>\n",
       "      <td>CA</td>\n",
       "      <td>1.480561</td>\n",
       "      <td>1.570921</td>\n",
       "      <td>1.449242</td>\n",
       "      <td>1.478335</td>\n",
       "      <td>1.412430</td>\n",
       "      <td>Fall</td>\n",
       "    </tr>\n",
       "    <tr>\n",
       "      <th>4</th>\n",
       "      <td>Colorado</td>\n",
       "      <td>CO</td>\n",
       "      <td>1.438589</td>\n",
       "      <td>1.055309</td>\n",
       "      <td>1.436910</td>\n",
       "      <td>1.367845</td>\n",
       "      <td>1.838758</td>\n",
       "      <td>Winter</td>\n",
       "    </tr>\n",
       "  </tbody>\n",
       "</table>\n",
       "</div>"
      ],
      "text/plain": [
       "         name abb    annual      fall    spring    summer    winter  \\\n",
       "0     Alabama  AL -0.035048 -0.195668 -0.105862 -0.325009  0.458526   \n",
       "1     Arizona  AZ  1.319880  1.203951  1.384480  1.274455  1.388388   \n",
       "2    Arkansas  AR  0.214074 -0.042540  0.266399  0.058596  0.532247   \n",
       "3  California  CA  1.480561  1.570921  1.449242  1.478335  1.412430   \n",
       "4    Colorado  CO  1.438589  1.055309  1.436910  1.367845  1.838758   \n",
       "\n",
       "  max_warming_season  \n",
       "0             Winter  \n",
       "1             Winter  \n",
       "2             Winter  \n",
       "3               Fall  \n",
       "4             Winter  "
      ]
     },
     "execution_count": 15,
     "metadata": {},
     "output_type": "execute_result"
    }
   ],
   "source": [
    "# Keep relevant columns\n",
    "df3 = df3[['STATE_NAME','STUSAB', 'Annual','Fall', 'Spring', 'Summer', 'Winter', 'max_warming_season']].copy()\n",
    "df3.columns = ['name','abb', 'annual','fall', 'spring', 'summer', 'winter', 'max_warming_season']\n",
    "print(df3.shape)\n",
    "df3.head()"
   ]
  },
  {
   "cell_type": "code",
   "execution_count": null,
   "metadata": {},
   "outputs": [],
   "source": []
  },
  {
   "cell_type": "code",
   "execution_count": null,
   "metadata": {},
   "outputs": [],
   "source": []
  },
  {
   "cell_type": "code",
   "execution_count": null,
   "metadata": {},
   "outputs": [],
   "source": []
  },
  {
   "cell_type": "code",
   "execution_count": null,
   "metadata": {},
   "outputs": [],
   "source": []
  },
  {
   "cell_type": "code",
   "execution_count": 16,
   "metadata": {},
   "outputs": [],
   "source": [
    "# Read in data set \n",
    "# Note: This describes the Carbon intensity of the economy by state (1997 - 2018)\n",
    "# measured as metric tons of energy-related carbon dioxide per chained 2012 million dollars of GDP\n",
    "# Source: U.S. Energy Information Administration, State Energy Data System and EIA calculations made for this analysis.\n",
    "# Note: State-level GDP is provided by the Bureau of Economic Analysis. The earliest available year for this data is 1997\n",
    "#df2 = pd.read_csv('Resources/raw_data/carbon_intensity_of_the_economy.csv')\n",
    "#df2.head()"
   ]
  }
 ],
 "metadata": {
  "kernelspec": {
   "display_name": "PythonData",
   "language": "python",
   "name": "pythondata"
  },
  "language_info": {
   "codemirror_mode": {
    "name": "ipython",
    "version": 3
   },
   "file_extension": ".py",
   "mimetype": "text/x-python",
   "name": "python",
   "nbconvert_exporter": "python",
   "pygments_lexer": "ipython3",
   "version": "3.7.7"
  }
 },
 "nbformat": 4,
 "nbformat_minor": 4
}
