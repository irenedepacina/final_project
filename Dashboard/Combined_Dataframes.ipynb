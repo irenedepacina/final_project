{
 "cells": [
  {
   "cell_type": "code",
   "execution_count": 1,
   "metadata": {},
   "outputs": [],
   "source": [
    "import pandas as pd"
   ]
  },
  {
   "cell_type": "code",
   "execution_count": 2,
   "metadata": {},
   "outputs": [
    {
     "output_type": "execute_result",
     "data": {
      "text/plain": [
       "               year      tempc  co2_emissions  population_thousands  \\\n",
       "state_name                                                            \n",
       "Alabama        1997  16.870370          134.9                  4368   \n",
       "Arizona        1997  15.847222           71.8                  4737   \n",
       "Arkansas       1997  15.365741           59.6                  2601   \n",
       "California     1997  15.064815          346.6                 32486   \n",
       "Colorado       1997   7.134259           75.7                  4018   \n",
       "...             ...        ...            ...                   ...   \n",
       "Virginia       2018  13.648148          103.1                  8501   \n",
       "Washington     2018   8.916667           78.8                  7524   \n",
       "West Virginia  2018  11.833333           89.9                  1804   \n",
       "Wisconsin      2018   6.226852          101.3                  5807   \n",
       "Wyoming        2018   5.782407           63.6                   578   \n",
       "\n",
       "               rgdp_millions  pe_coal  pe_petroleum  pe_naturalgas  \\\n",
       "state_name                                                           \n",
       "Alabama               143646   867264        524929         337431   \n",
       "Arizona               168550   369872        430092         137588   \n",
       "Arkansas               82756   246786        320440         264019   \n",
       "California           1378654    82651       3292194        2185029   \n",
       "Colorado              184193   362423        371516         311900   \n",
       "...                      ...      ...           ...            ...   \n",
       "Virginia              477006   149349        776363         666852   \n",
       "Washington            511672    61166        801282         334776   \n",
       "West Virginia          71481   661760        218584         222889   \n",
       "Wisconsin             301623   362077        543067         565280   \n",
       "Wyoming                38040   455748        162553         174859   \n",
       "\n",
       "               pe_nuclear  re_biomass  re_geothermal  re_hydropower  re_solar  \\\n",
       "state_name                                                                      \n",
       "Alabama            310336      182204             17         117660       138   \n",
       "Arizona            307623       16421            238         123060      3792   \n",
       "Arkansas           149100       86884            147          35906      1108   \n",
       "California         320194      158854         132211         419290     24988   \n",
       "Colorado                0       17123            411          20751       230   \n",
       "...                   ...         ...            ...            ...       ...   \n",
       "Virginia           305826      155471           1701          16067      8244   \n",
       "Washington         101502      145868           1136         736362      1507   \n",
       "West Virginia           0       20594             32          16821       140   \n",
       "Wisconsin          105900      160969            615          21777      1288   \n",
       "Wyoming                 0        8368            663           8883        67   \n",
       "\n",
       "               re_wind      PC 1      PC 2      PC 3 state_abb  Class  \n",
       "state_name                                                             \n",
       "Alabama              0  0.545343 -1.383178 -2.187870        AL      1  \n",
       "Arizona              0 -0.747017 -0.325250 -1.416466        AZ      0  \n",
       "Arkansas             0 -1.067665 -0.382199 -1.297546        AR      0  \n",
       "California       32037  8.464622  6.864697 -0.633550        CA      2  \n",
       "Colorado             0 -1.548489  0.128473  1.356988        CO      0  \n",
       "...                ...       ...       ...       ...       ...    ...  \n",
       "Virginia             0  0.759591  0.074438 -1.451443        VA      1  \n",
       "Washington       71922  0.517689  3.906769  1.335260        WA      0  \n",
       "West Virginia    16114 -1.392147 -0.714847  0.681270        WV      0  \n",
       "Wisconsin        14909 -0.202182  0.296416  0.483077        WI      0  \n",
       "Wyoming          36936 -2.018425  0.095585  1.768015        WY      0  \n",
       "\n",
       "[1056 rows x 19 columns]"
      ],
      "text/html": "<div>\n<style scoped>\n    .dataframe tbody tr th:only-of-type {\n        vertical-align: middle;\n    }\n\n    .dataframe tbody tr th {\n        vertical-align: top;\n    }\n\n    .dataframe thead th {\n        text-align: right;\n    }\n</style>\n<table border=\"1\" class=\"dataframe\">\n  <thead>\n    <tr style=\"text-align: right;\">\n      <th></th>\n      <th>year</th>\n      <th>tempc</th>\n      <th>co2_emissions</th>\n      <th>population_thousands</th>\n      <th>rgdp_millions</th>\n      <th>pe_coal</th>\n      <th>pe_petroleum</th>\n      <th>pe_naturalgas</th>\n      <th>pe_nuclear</th>\n      <th>re_biomass</th>\n      <th>re_geothermal</th>\n      <th>re_hydropower</th>\n      <th>re_solar</th>\n      <th>re_wind</th>\n      <th>PC 1</th>\n      <th>PC 2</th>\n      <th>PC 3</th>\n      <th>state_abb</th>\n      <th>Class</th>\n    </tr>\n    <tr>\n      <th>state_name</th>\n      <th></th>\n      <th></th>\n      <th></th>\n      <th></th>\n      <th></th>\n      <th></th>\n      <th></th>\n      <th></th>\n      <th></th>\n      <th></th>\n      <th></th>\n      <th></th>\n      <th></th>\n      <th></th>\n      <th></th>\n      <th></th>\n      <th></th>\n      <th></th>\n      <th></th>\n    </tr>\n  </thead>\n  <tbody>\n    <tr>\n      <th>Alabama</th>\n      <td>1997</td>\n      <td>16.870370</td>\n      <td>134.9</td>\n      <td>4368</td>\n      <td>143646</td>\n      <td>867264</td>\n      <td>524929</td>\n      <td>337431</td>\n      <td>310336</td>\n      <td>182204</td>\n      <td>17</td>\n      <td>117660</td>\n      <td>138</td>\n      <td>0</td>\n      <td>0.545343</td>\n      <td>-1.383178</td>\n      <td>-2.187870</td>\n      <td>AL</td>\n      <td>1</td>\n    </tr>\n    <tr>\n      <th>Arizona</th>\n      <td>1997</td>\n      <td>15.847222</td>\n      <td>71.8</td>\n      <td>4737</td>\n      <td>168550</td>\n      <td>369872</td>\n      <td>430092</td>\n      <td>137588</td>\n      <td>307623</td>\n      <td>16421</td>\n      <td>238</td>\n      <td>123060</td>\n      <td>3792</td>\n      <td>0</td>\n      <td>-0.747017</td>\n      <td>-0.325250</td>\n      <td>-1.416466</td>\n      <td>AZ</td>\n      <td>0</td>\n    </tr>\n    <tr>\n      <th>Arkansas</th>\n      <td>1997</td>\n      <td>15.365741</td>\n      <td>59.6</td>\n      <td>2601</td>\n      <td>82756</td>\n      <td>246786</td>\n      <td>320440</td>\n      <td>264019</td>\n      <td>149100</td>\n      <td>86884</td>\n      <td>147</td>\n      <td>35906</td>\n      <td>1108</td>\n      <td>0</td>\n      <td>-1.067665</td>\n      <td>-0.382199</td>\n      <td>-1.297546</td>\n      <td>AR</td>\n      <td>0</td>\n    </tr>\n    <tr>\n      <th>California</th>\n      <td>1997</td>\n      <td>15.064815</td>\n      <td>346.6</td>\n      <td>32486</td>\n      <td>1378654</td>\n      <td>82651</td>\n      <td>3292194</td>\n      <td>2185029</td>\n      <td>320194</td>\n      <td>158854</td>\n      <td>132211</td>\n      <td>419290</td>\n      <td>24988</td>\n      <td>32037</td>\n      <td>8.464622</td>\n      <td>6.864697</td>\n      <td>-0.633550</td>\n      <td>CA</td>\n      <td>2</td>\n    </tr>\n    <tr>\n      <th>Colorado</th>\n      <td>1997</td>\n      <td>7.134259</td>\n      <td>75.7</td>\n      <td>4018</td>\n      <td>184193</td>\n      <td>362423</td>\n      <td>371516</td>\n      <td>311900</td>\n      <td>0</td>\n      <td>17123</td>\n      <td>411</td>\n      <td>20751</td>\n      <td>230</td>\n      <td>0</td>\n      <td>-1.548489</td>\n      <td>0.128473</td>\n      <td>1.356988</td>\n      <td>CO</td>\n      <td>0</td>\n    </tr>\n    <tr>\n      <th>...</th>\n      <td>...</td>\n      <td>...</td>\n      <td>...</td>\n      <td>...</td>\n      <td>...</td>\n      <td>...</td>\n      <td>...</td>\n      <td>...</td>\n      <td>...</td>\n      <td>...</td>\n      <td>...</td>\n      <td>...</td>\n      <td>...</td>\n      <td>...</td>\n      <td>...</td>\n      <td>...</td>\n      <td>...</td>\n      <td>...</td>\n      <td>...</td>\n    </tr>\n    <tr>\n      <th>Virginia</th>\n      <td>2018</td>\n      <td>13.648148</td>\n      <td>103.1</td>\n      <td>8501</td>\n      <td>477006</td>\n      <td>149349</td>\n      <td>776363</td>\n      <td>666852</td>\n      <td>305826</td>\n      <td>155471</td>\n      <td>1701</td>\n      <td>16067</td>\n      <td>8244</td>\n      <td>0</td>\n      <td>0.759591</td>\n      <td>0.074438</td>\n      <td>-1.451443</td>\n      <td>VA</td>\n      <td>1</td>\n    </tr>\n    <tr>\n      <th>Washington</th>\n      <td>2018</td>\n      <td>8.916667</td>\n      <td>78.8</td>\n      <td>7524</td>\n      <td>511672</td>\n      <td>61166</td>\n      <td>801282</td>\n      <td>334776</td>\n      <td>101502</td>\n      <td>145868</td>\n      <td>1136</td>\n      <td>736362</td>\n      <td>1507</td>\n      <td>71922</td>\n      <td>0.517689</td>\n      <td>3.906769</td>\n      <td>1.335260</td>\n      <td>WA</td>\n      <td>0</td>\n    </tr>\n    <tr>\n      <th>West Virginia</th>\n      <td>2018</td>\n      <td>11.833333</td>\n      <td>89.9</td>\n      <td>1804</td>\n      <td>71481</td>\n      <td>661760</td>\n      <td>218584</td>\n      <td>222889</td>\n      <td>0</td>\n      <td>20594</td>\n      <td>32</td>\n      <td>16821</td>\n      <td>140</td>\n      <td>16114</td>\n      <td>-1.392147</td>\n      <td>-0.714847</td>\n      <td>0.681270</td>\n      <td>WV</td>\n      <td>0</td>\n    </tr>\n    <tr>\n      <th>Wisconsin</th>\n      <td>2018</td>\n      <td>6.226852</td>\n      <td>101.3</td>\n      <td>5807</td>\n      <td>301623</td>\n      <td>362077</td>\n      <td>543067</td>\n      <td>565280</td>\n      <td>105900</td>\n      <td>160969</td>\n      <td>615</td>\n      <td>21777</td>\n      <td>1288</td>\n      <td>14909</td>\n      <td>-0.202182</td>\n      <td>0.296416</td>\n      <td>0.483077</td>\n      <td>WI</td>\n      <td>0</td>\n    </tr>\n    <tr>\n      <th>Wyoming</th>\n      <td>2018</td>\n      <td>5.782407</td>\n      <td>63.6</td>\n      <td>578</td>\n      <td>38040</td>\n      <td>455748</td>\n      <td>162553</td>\n      <td>174859</td>\n      <td>0</td>\n      <td>8368</td>\n      <td>663</td>\n      <td>8883</td>\n      <td>67</td>\n      <td>36936</td>\n      <td>-2.018425</td>\n      <td>0.095585</td>\n      <td>1.768015</td>\n      <td>WY</td>\n      <td>0</td>\n    </tr>\n  </tbody>\n</table>\n<p>1056 rows × 19 columns</p>\n</div>"
     },
     "metadata": {},
     "execution_count": 2
    }
   ],
   "source": [
    "# Read in the ML output file\n",
    "combined_df = pd.read_csv('../Machine_Learning/Unsupervised_ML_output.csv', index_col=\"state_name\")\n",
    "combined_df"
   ]
  },
  {
   "cell_type": "code",
   "execution_count": 3,
   "metadata": {},
   "outputs": [
    {
     "output_type": "execute_result",
     "data": {
      "text/plain": [
       "               year  drought  flooding  freeze  severe_storm  \\\n",
       "state_name                                                     \n",
       "Alaska         1980        0         0       0             0   \n",
       "Alabama        1980        1         0       0             0   \n",
       "Arkansas       1980        1         1       0             0   \n",
       "Arizona        1980        0         0       0             0   \n",
       "California     1980        0         0       0             0   \n",
       "...             ...      ...       ...     ...           ...   \n",
       "Vermont        2020        0         0       0             0   \n",
       "Washington     2020        1         0       0             0   \n",
       "Wisconsin      2020        0         0       0             3   \n",
       "West Virginia  2020        0         0       0             3   \n",
       "Wyoming        2020        1         0       0             0   \n",
       "\n",
       "               tropical_cyclone  wildfire  winter_storm  \n",
       "state_name                                               \n",
       "Alaska                        0         0             0  \n",
       "Alabama                       0         0             0  \n",
       "Arkansas                      0         0             0  \n",
       "Arizona                       0         0             0  \n",
       "California                    0         0             0  \n",
       "...                         ...       ...           ...  \n",
       "Vermont                       0         0             0  \n",
       "Washington                    0         1             0  \n",
       "Wisconsin                     0         0             0  \n",
       "West Virginia                 0         0             0  \n",
       "Wyoming                       0         1             0  \n",
       "\n",
       "[2132 rows x 8 columns]"
      ],
      "text/html": "<div>\n<style scoped>\n    .dataframe tbody tr th:only-of-type {\n        vertical-align: middle;\n    }\n\n    .dataframe tbody tr th {\n        vertical-align: top;\n    }\n\n    .dataframe thead th {\n        text-align: right;\n    }\n</style>\n<table border=\"1\" class=\"dataframe\">\n  <thead>\n    <tr style=\"text-align: right;\">\n      <th></th>\n      <th>year</th>\n      <th>drought</th>\n      <th>flooding</th>\n      <th>freeze</th>\n      <th>severe_storm</th>\n      <th>tropical_cyclone</th>\n      <th>wildfire</th>\n      <th>winter_storm</th>\n    </tr>\n    <tr>\n      <th>state_name</th>\n      <th></th>\n      <th></th>\n      <th></th>\n      <th></th>\n      <th></th>\n      <th></th>\n      <th></th>\n      <th></th>\n    </tr>\n  </thead>\n  <tbody>\n    <tr>\n      <th>Alaska</th>\n      <td>1980</td>\n      <td>0</td>\n      <td>0</td>\n      <td>0</td>\n      <td>0</td>\n      <td>0</td>\n      <td>0</td>\n      <td>0</td>\n    </tr>\n    <tr>\n      <th>Alabama</th>\n      <td>1980</td>\n      <td>1</td>\n      <td>0</td>\n      <td>0</td>\n      <td>0</td>\n      <td>0</td>\n      <td>0</td>\n      <td>0</td>\n    </tr>\n    <tr>\n      <th>Arkansas</th>\n      <td>1980</td>\n      <td>1</td>\n      <td>1</td>\n      <td>0</td>\n      <td>0</td>\n      <td>0</td>\n      <td>0</td>\n      <td>0</td>\n    </tr>\n    <tr>\n      <th>Arizona</th>\n      <td>1980</td>\n      <td>0</td>\n      <td>0</td>\n      <td>0</td>\n      <td>0</td>\n      <td>0</td>\n      <td>0</td>\n      <td>0</td>\n    </tr>\n    <tr>\n      <th>California</th>\n      <td>1980</td>\n      <td>0</td>\n      <td>0</td>\n      <td>0</td>\n      <td>0</td>\n      <td>0</td>\n      <td>0</td>\n      <td>0</td>\n    </tr>\n    <tr>\n      <th>...</th>\n      <td>...</td>\n      <td>...</td>\n      <td>...</td>\n      <td>...</td>\n      <td>...</td>\n      <td>...</td>\n      <td>...</td>\n      <td>...</td>\n    </tr>\n    <tr>\n      <th>Vermont</th>\n      <td>2020</td>\n      <td>0</td>\n      <td>0</td>\n      <td>0</td>\n      <td>0</td>\n      <td>0</td>\n      <td>0</td>\n      <td>0</td>\n    </tr>\n    <tr>\n      <th>Washington</th>\n      <td>2020</td>\n      <td>1</td>\n      <td>0</td>\n      <td>0</td>\n      <td>0</td>\n      <td>0</td>\n      <td>1</td>\n      <td>0</td>\n    </tr>\n    <tr>\n      <th>Wisconsin</th>\n      <td>2020</td>\n      <td>0</td>\n      <td>0</td>\n      <td>0</td>\n      <td>3</td>\n      <td>0</td>\n      <td>0</td>\n      <td>0</td>\n    </tr>\n    <tr>\n      <th>West Virginia</th>\n      <td>2020</td>\n      <td>0</td>\n      <td>0</td>\n      <td>0</td>\n      <td>3</td>\n      <td>0</td>\n      <td>0</td>\n      <td>0</td>\n    </tr>\n    <tr>\n      <th>Wyoming</th>\n      <td>2020</td>\n      <td>1</td>\n      <td>0</td>\n      <td>0</td>\n      <td>0</td>\n      <td>0</td>\n      <td>1</td>\n      <td>0</td>\n    </tr>\n  </tbody>\n</table>\n<p>2132 rows × 8 columns</p>\n</div>"
     },
     "metadata": {},
     "execution_count": 3
    }
   ],
   "source": [
    "#Read in the state_disasters csv\n",
    "state_disasters = pd.read_csv(\"../Resources/data_processed/state_disasters.csv\", index_col=\"state_name\")\n",
    "state_disasters"
   ]
  },
  {
   "cell_type": "code",
   "execution_count": 4,
   "metadata": {},
   "outputs": [
    {
     "output_type": "execute_result",
     "data": {
      "text/plain": [
       "               year  drought  flooding  freeze  severe_storm  \\\n",
       "state_name                                                     \n",
       "Alaska         1997        0         0       0             0   \n",
       "Alabama        1997        0         0       0             0   \n",
       "Arkansas       1997        0         0       0             1   \n",
       "Arizona        1997        0         0       0             0   \n",
       "California     1997        0         1       0             0   \n",
       "...             ...      ...       ...     ...           ...   \n",
       "Vermont        2018        0         0       0             1   \n",
       "Washington     2018        0         0       0             0   \n",
       "Wisconsin      2018        0         0       0             1   \n",
       "West Virginia  2018        0         0       0             1   \n",
       "Wyoming        2018        0         0       0             1   \n",
       "\n",
       "               tropical_cyclone  wildfire  winter_storm  \n",
       "state_name                                               \n",
       "Alaska                        0         0             0  \n",
       "Alabama                       0         0             0  \n",
       "Arkansas                      0         0             0  \n",
       "Arizona                       0         0             0  \n",
       "California                    0         0             0  \n",
       "...                         ...       ...           ...  \n",
       "Vermont                       0         0             0  \n",
       "Washington                    0         1             0  \n",
       "Wisconsin                     0         0             0  \n",
       "West Virginia                 0         0             0  \n",
       "Wyoming                       0         1             0  \n",
       "\n",
       "[1144 rows x 8 columns]"
      ],
      "text/html": "<div>\n<style scoped>\n    .dataframe tbody tr th:only-of-type {\n        vertical-align: middle;\n    }\n\n    .dataframe tbody tr th {\n        vertical-align: top;\n    }\n\n    .dataframe thead th {\n        text-align: right;\n    }\n</style>\n<table border=\"1\" class=\"dataframe\">\n  <thead>\n    <tr style=\"text-align: right;\">\n      <th></th>\n      <th>year</th>\n      <th>drought</th>\n      <th>flooding</th>\n      <th>freeze</th>\n      <th>severe_storm</th>\n      <th>tropical_cyclone</th>\n      <th>wildfire</th>\n      <th>winter_storm</th>\n    </tr>\n    <tr>\n      <th>state_name</th>\n      <th></th>\n      <th></th>\n      <th></th>\n      <th></th>\n      <th></th>\n      <th></th>\n      <th></th>\n      <th></th>\n    </tr>\n  </thead>\n  <tbody>\n    <tr>\n      <th>Alaska</th>\n      <td>1997</td>\n      <td>0</td>\n      <td>0</td>\n      <td>0</td>\n      <td>0</td>\n      <td>0</td>\n      <td>0</td>\n      <td>0</td>\n    </tr>\n    <tr>\n      <th>Alabama</th>\n      <td>1997</td>\n      <td>0</td>\n      <td>0</td>\n      <td>0</td>\n      <td>0</td>\n      <td>0</td>\n      <td>0</td>\n      <td>0</td>\n    </tr>\n    <tr>\n      <th>Arkansas</th>\n      <td>1997</td>\n      <td>0</td>\n      <td>0</td>\n      <td>0</td>\n      <td>1</td>\n      <td>0</td>\n      <td>0</td>\n      <td>0</td>\n    </tr>\n    <tr>\n      <th>Arizona</th>\n      <td>1997</td>\n      <td>0</td>\n      <td>0</td>\n      <td>0</td>\n      <td>0</td>\n      <td>0</td>\n      <td>0</td>\n      <td>0</td>\n    </tr>\n    <tr>\n      <th>California</th>\n      <td>1997</td>\n      <td>0</td>\n      <td>1</td>\n      <td>0</td>\n      <td>0</td>\n      <td>0</td>\n      <td>0</td>\n      <td>0</td>\n    </tr>\n    <tr>\n      <th>...</th>\n      <td>...</td>\n      <td>...</td>\n      <td>...</td>\n      <td>...</td>\n      <td>...</td>\n      <td>...</td>\n      <td>...</td>\n      <td>...</td>\n    </tr>\n    <tr>\n      <th>Vermont</th>\n      <td>2018</td>\n      <td>0</td>\n      <td>0</td>\n      <td>0</td>\n      <td>1</td>\n      <td>0</td>\n      <td>0</td>\n      <td>0</td>\n    </tr>\n    <tr>\n      <th>Washington</th>\n      <td>2018</td>\n      <td>0</td>\n      <td>0</td>\n      <td>0</td>\n      <td>0</td>\n      <td>0</td>\n      <td>1</td>\n      <td>0</td>\n    </tr>\n    <tr>\n      <th>Wisconsin</th>\n      <td>2018</td>\n      <td>0</td>\n      <td>0</td>\n      <td>0</td>\n      <td>1</td>\n      <td>0</td>\n      <td>0</td>\n      <td>0</td>\n    </tr>\n    <tr>\n      <th>West Virginia</th>\n      <td>2018</td>\n      <td>0</td>\n      <td>0</td>\n      <td>0</td>\n      <td>1</td>\n      <td>0</td>\n      <td>0</td>\n      <td>0</td>\n    </tr>\n    <tr>\n      <th>Wyoming</th>\n      <td>2018</td>\n      <td>0</td>\n      <td>0</td>\n      <td>0</td>\n      <td>1</td>\n      <td>0</td>\n      <td>1</td>\n      <td>0</td>\n    </tr>\n  </tbody>\n</table>\n<p>1144 rows × 8 columns</p>\n</div>"
     },
     "metadata": {},
     "execution_count": 4
    }
   ],
   "source": [
    "#filter state_disasters to date range 1997-2018\n",
    "state_disasters=state_disasters[state_disasters[\"year\"]>=1997]\n",
    "state_disasters = state_disasters[state_disasters[\"year\"]<=2018]\n",
    "state_disasters\n"
   ]
  },
  {
   "cell_type": "code",
   "execution_count": 5,
   "metadata": {},
   "outputs": [
    {
     "output_type": "execute_result",
     "data": {
      "text/plain": [
       "Index(['Alaska', 'Alabama', 'Arkansas', 'Arizona', 'California', 'Colorado',\n",
       "       'Connecticut', 'Delaware', 'Florida', 'Georgia', 'Hawaii', 'Iowa',\n",
       "       'Idaho', 'Illinois', 'Indiana', 'Kansas', 'Kentucky', 'Louisiana',\n",
       "       'Massachusetts', 'Maryland', 'Maine', 'Michigan', 'Minnesota',\n",
       "       'Missouri', 'Mississippi', 'Montana', 'North Carolina', 'North Dakota',\n",
       "       'Nebraska', 'New Hampshire', 'New Jersey', 'New Mexico', 'Nevada',\n",
       "       'New York', 'Ohio', 'Oklahoma', 'Oregon', 'Pennsylvania', 'Puerto Rico',\n",
       "       'Rhode Island', 'South Carolina', 'South Dakota', 'Tennessee', 'Texas',\n",
       "       'Utah', 'Virginia', 'Virgin Islands', 'Vermont', 'Washington',\n",
       "       'Wisconsin', 'West Virginia', 'Wyoming'],\n",
       "      dtype='object', name='state_name')"
      ]
     },
     "metadata": {},
     "execution_count": 5
    }
   ],
   "source": [
    "#Begin filtering by state to find states disallowed from our analysis\n",
    "state_disasters.index.unique()"
   ]
  },
  {
   "cell_type": "code",
   "execution_count": 6,
   "metadata": {},
   "outputs": [
    {
     "output_type": "execute_result",
     "data": {
      "text/plain": [
       "year  drought  flooding  freeze  severe_storm  tropical_cyclone  wildfire  winter_storm\n",
       "2005  0        0         0       0             0                 0         0               29\n",
       "2001  0        0         0       0             0                 0         0               28\n",
       "2010  0        0         0       0             0                 0         0               25\n",
       "2000  0        0         0       0             0                 0         0               24\n",
       "2004  0        0         0       0             0                 0         0               23\n",
       "                                                                                           ..\n",
       "2007  1        0         1       1             0                 1         0                1\n",
       "2013  1        0         0       3             0                 0         0                1\n",
       "               1         0       0             0                 0         0                1\n",
       "                                 3             0                 0         0                1\n",
       "2018  1        0         0       5             0                 0         0                1\n",
       "Length: 315, dtype: int64"
      ]
     },
     "metadata": {},
     "execution_count": 6
    }
   ],
   "source": [
    "#remove non-contiguous states\n",
    "state_disasters=state_disasters.drop(labels=[\"Alaska\", \"Hawaii\", \"Puerto Rico\", \"Virgin Islands\"], axis=0)\n",
    "state_disasters.value_counts()"
   ]
  },
  {
   "cell_type": "code",
   "execution_count": 7,
   "metadata": {},
   "outputs": [
    {
     "output_type": "execute_result",
     "data": {
      "text/plain": [
       "               year      tempc  co2_emissions  population_thousands  \\\n",
       "state_name                                                            \n",
       "Alabama        1997  16.870370          134.9                  4368   \n",
       "Arizona        1997  15.847222           71.8                  4737   \n",
       "Arkansas       1997  15.365741           59.6                  2601   \n",
       "California     1997  15.064815          346.6                 32486   \n",
       "Colorado       1997   7.134259           75.7                  4018   \n",
       "...             ...        ...            ...                   ...   \n",
       "Virginia       2018  13.648148          103.1                  8501   \n",
       "Washington     2018   8.916667           78.8                  7524   \n",
       "West Virginia  2018  11.833333           89.9                  1804   \n",
       "Wisconsin      2018   6.226852          101.3                  5807   \n",
       "Wyoming        2018   5.782407           63.6                   578   \n",
       "\n",
       "               rgdp_millions  pe_coal  pe_petroleum  pe_naturalgas  \\\n",
       "state_name                                                           \n",
       "Alabama               143646   867264        524929         337431   \n",
       "Arizona               168550   369872        430092         137588   \n",
       "Arkansas               82756   246786        320440         264019   \n",
       "California           1378654    82651       3292194        2185029   \n",
       "Colorado              184193   362423        371516         311900   \n",
       "...                      ...      ...           ...            ...   \n",
       "Virginia              477006   149349        776363         666852   \n",
       "Washington            511672    61166        801282         334776   \n",
       "West Virginia          71481   661760        218584         222889   \n",
       "Wisconsin             301623   362077        543067         565280   \n",
       "Wyoming                38040   455748        162553         174859   \n",
       "\n",
       "               pe_nuclear  re_biomass  ...      PC 3  state_abb  Class  \\\n",
       "state_name                             ...                               \n",
       "Alabama            310336      182204  ... -2.187870         AL      1   \n",
       "Arizona            307623       16421  ... -1.416466         AZ      0   \n",
       "Arkansas           149100       86884  ... -1.297546         AR      0   \n",
       "California         320194      158854  ... -0.633550         CA      2   \n",
       "Colorado                0       17123  ...  1.356988         CO      0   \n",
       "...                   ...         ...  ...       ...        ...    ...   \n",
       "Virginia           305826      155471  ... -1.451443         VA      1   \n",
       "Washington         101502      145868  ...  1.335260         WA      0   \n",
       "West Virginia           0       20594  ...  0.681270         WV      0   \n",
       "Wisconsin          105900      160969  ...  0.483077         WI      0   \n",
       "Wyoming                 0        8368  ...  1.768015         WY      0   \n",
       "\n",
       "               drought  flooding  freeze  severe_storm tropical_cyclone  \\\n",
       "state_name                                                                \n",
       "Alabama              0         0       0             0                0   \n",
       "Arizona              0         0       0             0                0   \n",
       "Arkansas             0         0       0             1                0   \n",
       "California           0         1       0             0                0   \n",
       "Colorado             0         0       0             0                0   \n",
       "...                ...       ...     ...           ...              ...   \n",
       "Virginia             0         0       0             3                2   \n",
       "Washington           0         0       0             0                0   \n",
       "West Virginia        0         0       0             1                0   \n",
       "Wisconsin            0         0       0             1                0   \n",
       "Wyoming              0         0       0             1                0   \n",
       "\n",
       "               wildfire  winter_storm  \n",
       "state_name                             \n",
       "Alabama               0             0  \n",
       "Arizona               0             0  \n",
       "Arkansas              0             0  \n",
       "California            0             0  \n",
       "Colorado              0             0  \n",
       "...                 ...           ...  \n",
       "Virginia              0             2  \n",
       "Washington            1             0  \n",
       "West Virginia         0             0  \n",
       "Wisconsin             0             0  \n",
       "Wyoming               1             0  \n",
       "\n",
       "[1056 rows x 26 columns]"
      ],
      "text/html": "<div>\n<style scoped>\n    .dataframe tbody tr th:only-of-type {\n        vertical-align: middle;\n    }\n\n    .dataframe tbody tr th {\n        vertical-align: top;\n    }\n\n    .dataframe thead th {\n        text-align: right;\n    }\n</style>\n<table border=\"1\" class=\"dataframe\">\n  <thead>\n    <tr style=\"text-align: right;\">\n      <th></th>\n      <th>year</th>\n      <th>tempc</th>\n      <th>co2_emissions</th>\n      <th>population_thousands</th>\n      <th>rgdp_millions</th>\n      <th>pe_coal</th>\n      <th>pe_petroleum</th>\n      <th>pe_naturalgas</th>\n      <th>pe_nuclear</th>\n      <th>re_biomass</th>\n      <th>...</th>\n      <th>PC 3</th>\n      <th>state_abb</th>\n      <th>Class</th>\n      <th>drought</th>\n      <th>flooding</th>\n      <th>freeze</th>\n      <th>severe_storm</th>\n      <th>tropical_cyclone</th>\n      <th>wildfire</th>\n      <th>winter_storm</th>\n    </tr>\n    <tr>\n      <th>state_name</th>\n      <th></th>\n      <th></th>\n      <th></th>\n      <th></th>\n      <th></th>\n      <th></th>\n      <th></th>\n      <th></th>\n      <th></th>\n      <th></th>\n      <th></th>\n      <th></th>\n      <th></th>\n      <th></th>\n      <th></th>\n      <th></th>\n      <th></th>\n      <th></th>\n      <th></th>\n      <th></th>\n      <th></th>\n    </tr>\n  </thead>\n  <tbody>\n    <tr>\n      <th>Alabama</th>\n      <td>1997</td>\n      <td>16.870370</td>\n      <td>134.9</td>\n      <td>4368</td>\n      <td>143646</td>\n      <td>867264</td>\n      <td>524929</td>\n      <td>337431</td>\n      <td>310336</td>\n      <td>182204</td>\n      <td>...</td>\n      <td>-2.187870</td>\n      <td>AL</td>\n      <td>1</td>\n      <td>0</td>\n      <td>0</td>\n      <td>0</td>\n      <td>0</td>\n      <td>0</td>\n      <td>0</td>\n      <td>0</td>\n    </tr>\n    <tr>\n      <th>Arizona</th>\n      <td>1997</td>\n      <td>15.847222</td>\n      <td>71.8</td>\n      <td>4737</td>\n      <td>168550</td>\n      <td>369872</td>\n      <td>430092</td>\n      <td>137588</td>\n      <td>307623</td>\n      <td>16421</td>\n      <td>...</td>\n      <td>-1.416466</td>\n      <td>AZ</td>\n      <td>0</td>\n      <td>0</td>\n      <td>0</td>\n      <td>0</td>\n      <td>0</td>\n      <td>0</td>\n      <td>0</td>\n      <td>0</td>\n    </tr>\n    <tr>\n      <th>Arkansas</th>\n      <td>1997</td>\n      <td>15.365741</td>\n      <td>59.6</td>\n      <td>2601</td>\n      <td>82756</td>\n      <td>246786</td>\n      <td>320440</td>\n      <td>264019</td>\n      <td>149100</td>\n      <td>86884</td>\n      <td>...</td>\n      <td>-1.297546</td>\n      <td>AR</td>\n      <td>0</td>\n      <td>0</td>\n      <td>0</td>\n      <td>0</td>\n      <td>1</td>\n      <td>0</td>\n      <td>0</td>\n      <td>0</td>\n    </tr>\n    <tr>\n      <th>California</th>\n      <td>1997</td>\n      <td>15.064815</td>\n      <td>346.6</td>\n      <td>32486</td>\n      <td>1378654</td>\n      <td>82651</td>\n      <td>3292194</td>\n      <td>2185029</td>\n      <td>320194</td>\n      <td>158854</td>\n      <td>...</td>\n      <td>-0.633550</td>\n      <td>CA</td>\n      <td>2</td>\n      <td>0</td>\n      <td>1</td>\n      <td>0</td>\n      <td>0</td>\n      <td>0</td>\n      <td>0</td>\n      <td>0</td>\n    </tr>\n    <tr>\n      <th>Colorado</th>\n      <td>1997</td>\n      <td>7.134259</td>\n      <td>75.7</td>\n      <td>4018</td>\n      <td>184193</td>\n      <td>362423</td>\n      <td>371516</td>\n      <td>311900</td>\n      <td>0</td>\n      <td>17123</td>\n      <td>...</td>\n      <td>1.356988</td>\n      <td>CO</td>\n      <td>0</td>\n      <td>0</td>\n      <td>0</td>\n      <td>0</td>\n      <td>0</td>\n      <td>0</td>\n      <td>0</td>\n      <td>0</td>\n    </tr>\n    <tr>\n      <th>...</th>\n      <td>...</td>\n      <td>...</td>\n      <td>...</td>\n      <td>...</td>\n      <td>...</td>\n      <td>...</td>\n      <td>...</td>\n      <td>...</td>\n      <td>...</td>\n      <td>...</td>\n      <td>...</td>\n      <td>...</td>\n      <td>...</td>\n      <td>...</td>\n      <td>...</td>\n      <td>...</td>\n      <td>...</td>\n      <td>...</td>\n      <td>...</td>\n      <td>...</td>\n      <td>...</td>\n    </tr>\n    <tr>\n      <th>Virginia</th>\n      <td>2018</td>\n      <td>13.648148</td>\n      <td>103.1</td>\n      <td>8501</td>\n      <td>477006</td>\n      <td>149349</td>\n      <td>776363</td>\n      <td>666852</td>\n      <td>305826</td>\n      <td>155471</td>\n      <td>...</td>\n      <td>-1.451443</td>\n      <td>VA</td>\n      <td>1</td>\n      <td>0</td>\n      <td>0</td>\n      <td>0</td>\n      <td>3</td>\n      <td>2</td>\n      <td>0</td>\n      <td>2</td>\n    </tr>\n    <tr>\n      <th>Washington</th>\n      <td>2018</td>\n      <td>8.916667</td>\n      <td>78.8</td>\n      <td>7524</td>\n      <td>511672</td>\n      <td>61166</td>\n      <td>801282</td>\n      <td>334776</td>\n      <td>101502</td>\n      <td>145868</td>\n      <td>...</td>\n      <td>1.335260</td>\n      <td>WA</td>\n      <td>0</td>\n      <td>0</td>\n      <td>0</td>\n      <td>0</td>\n      <td>0</td>\n      <td>0</td>\n      <td>1</td>\n      <td>0</td>\n    </tr>\n    <tr>\n      <th>West Virginia</th>\n      <td>2018</td>\n      <td>11.833333</td>\n      <td>89.9</td>\n      <td>1804</td>\n      <td>71481</td>\n      <td>661760</td>\n      <td>218584</td>\n      <td>222889</td>\n      <td>0</td>\n      <td>20594</td>\n      <td>...</td>\n      <td>0.681270</td>\n      <td>WV</td>\n      <td>0</td>\n      <td>0</td>\n      <td>0</td>\n      <td>0</td>\n      <td>1</td>\n      <td>0</td>\n      <td>0</td>\n      <td>0</td>\n    </tr>\n    <tr>\n      <th>Wisconsin</th>\n      <td>2018</td>\n      <td>6.226852</td>\n      <td>101.3</td>\n      <td>5807</td>\n      <td>301623</td>\n      <td>362077</td>\n      <td>543067</td>\n      <td>565280</td>\n      <td>105900</td>\n      <td>160969</td>\n      <td>...</td>\n      <td>0.483077</td>\n      <td>WI</td>\n      <td>0</td>\n      <td>0</td>\n      <td>0</td>\n      <td>0</td>\n      <td>1</td>\n      <td>0</td>\n      <td>0</td>\n      <td>0</td>\n    </tr>\n    <tr>\n      <th>Wyoming</th>\n      <td>2018</td>\n      <td>5.782407</td>\n      <td>63.6</td>\n      <td>578</td>\n      <td>38040</td>\n      <td>455748</td>\n      <td>162553</td>\n      <td>174859</td>\n      <td>0</td>\n      <td>8368</td>\n      <td>...</td>\n      <td>1.768015</td>\n      <td>WY</td>\n      <td>0</td>\n      <td>0</td>\n      <td>0</td>\n      <td>0</td>\n      <td>1</td>\n      <td>0</td>\n      <td>1</td>\n      <td>0</td>\n    </tr>\n  </tbody>\n</table>\n<p>1056 rows × 26 columns</p>\n</div>"
     },
     "metadata": {},
     "execution_count": 7
    }
   ],
   "source": [
    "#Merge with ML output\n",
    "vis_df=pd.merge(left=combined_df, right=state_disasters, on=[\"state_name\", \"year\"])\n",
    "vis_df"
   ]
  },
  {
   "cell_type": "code",
   "execution_count": 8,
   "metadata": {},
   "outputs": [],
   "source": [
    "# #add longitude and latitude of major cities/state\n",
    "# long_lats=pd.read_csv(\"../Resources/data_raw/us_cities.csv\")\n",
    "# long_lats[\"state_name\"]=long_lats[\"name\"]\n",
    "# long_lats=long_lats.drop(\"name\", axis=1)\n",
    "# long_lats=long_lats.set_index(\"state_name\")\n",
    "# long_lats"
   ]
  },
  {
   "cell_type": "code",
   "execution_count": 9,
   "metadata": {},
   "outputs": [],
   "source": [
    "# #merge to df\n",
    "# vis_df=pd.merge(left=combined_df, right=long_lats, how=\"left\", on=\"state_name\")\n",
    "# vis_df"
   ]
  },
  {
   "cell_type": "code",
   "execution_count": 10,
   "metadata": {},
   "outputs": [
    {
     "output_type": "execute_result",
     "data": {
      "text/plain": [
       "               year      tempc  co2_emissions  population_thousands  \\\n",
       "state_name                                                            \n",
       "Alabama        1997  16.870370          134.9                  4368   \n",
       "Arizona        1997  15.847222           71.8                  4737   \n",
       "Arkansas       1997  15.365741           59.6                  2601   \n",
       "California     1997  15.064815          346.6                 32486   \n",
       "Colorado       1997   7.134259           75.7                  4018   \n",
       "...             ...        ...            ...                   ...   \n",
       "Virginia       2018  13.648148          103.1                  8501   \n",
       "Washington     2018   8.916667           78.8                  7524   \n",
       "West Virginia  2018  11.833333           89.9                  1804   \n",
       "Wisconsin      2018   6.226852          101.3                  5807   \n",
       "Wyoming        2018   5.782407           63.6                   578   \n",
       "\n",
       "               rgdp_millions  pe_coal  pe_petroleum  pe_naturalgas  \\\n",
       "state_name                                                           \n",
       "Alabama               143646   867264        524929         337431   \n",
       "Arizona               168550   369872        430092         137588   \n",
       "Arkansas               82756   246786        320440         264019   \n",
       "California           1378654    82651       3292194        2185029   \n",
       "Colorado              184193   362423        371516         311900   \n",
       "...                      ...      ...           ...            ...   \n",
       "Virginia              477006   149349        776363         666852   \n",
       "Washington            511672    61166        801282         334776   \n",
       "West Virginia          71481   661760        218584         222889   \n",
       "Wisconsin             301623   362077        543067         565280   \n",
       "Wyoming                38040   455748        162553         174859   \n",
       "\n",
       "               pe_nuclear  re_biomass  ...  state_abb  Class  drought  \\\n",
       "state_name                             ...                              \n",
       "Alabama            310336      182204  ...         AL      1        0   \n",
       "Arizona            307623       16421  ...         AZ      0        0   \n",
       "Arkansas           149100       86884  ...         AR      0        0   \n",
       "California         320194      158854  ...         CA      2        0   \n",
       "Colorado                0       17123  ...         CO      0        0   \n",
       "...                   ...         ...  ...        ...    ...      ...   \n",
       "Virginia           305826      155471  ...         VA      1        0   \n",
       "Washington         101502      145868  ...         WA      0        0   \n",
       "West Virginia           0       20594  ...         WV      0        0   \n",
       "Wisconsin          105900      160969  ...         WI      0        0   \n",
       "Wyoming                 0        8368  ...         WY      0        0   \n",
       "\n",
       "               flooding  freeze  severe_storm  tropical_cyclone wildfire  \\\n",
       "state_name                                                                 \n",
       "Alabama               0       0             0                 0        0   \n",
       "Arizona               0       0             0                 0        0   \n",
       "Arkansas              0       0             1                 0        0   \n",
       "California            1       0             0                 0        0   \n",
       "Colorado              0       0             0                 0        0   \n",
       "...                 ...     ...           ...               ...      ...   \n",
       "Virginia              0       0             3                 2        0   \n",
       "Washington            0       0             0                 0        1   \n",
       "West Virginia         0       0             1                 0        0   \n",
       "Wisconsin             0       0             1                 0        0   \n",
       "Wyoming               0       0             1                 0        1   \n",
       "\n",
       "               winter_storm  total_disasters  \n",
       "state_name                                    \n",
       "Alabama                   0                0  \n",
       "Arizona                   0                0  \n",
       "Arkansas                  0                1  \n",
       "California                0                1  \n",
       "Colorado                  0                0  \n",
       "...                     ...              ...  \n",
       "Virginia                  2                7  \n",
       "Washington                0                1  \n",
       "West Virginia             0                1  \n",
       "Wisconsin                 0                1  \n",
       "Wyoming                   0                2  \n",
       "\n",
       "[1056 rows x 27 columns]"
      ],
      "text/html": "<div>\n<style scoped>\n    .dataframe tbody tr th:only-of-type {\n        vertical-align: middle;\n    }\n\n    .dataframe tbody tr th {\n        vertical-align: top;\n    }\n\n    .dataframe thead th {\n        text-align: right;\n    }\n</style>\n<table border=\"1\" class=\"dataframe\">\n  <thead>\n    <tr style=\"text-align: right;\">\n      <th></th>\n      <th>year</th>\n      <th>tempc</th>\n      <th>co2_emissions</th>\n      <th>population_thousands</th>\n      <th>rgdp_millions</th>\n      <th>pe_coal</th>\n      <th>pe_petroleum</th>\n      <th>pe_naturalgas</th>\n      <th>pe_nuclear</th>\n      <th>re_biomass</th>\n      <th>...</th>\n      <th>state_abb</th>\n      <th>Class</th>\n      <th>drought</th>\n      <th>flooding</th>\n      <th>freeze</th>\n      <th>severe_storm</th>\n      <th>tropical_cyclone</th>\n      <th>wildfire</th>\n      <th>winter_storm</th>\n      <th>total_disasters</th>\n    </tr>\n    <tr>\n      <th>state_name</th>\n      <th></th>\n      <th></th>\n      <th></th>\n      <th></th>\n      <th></th>\n      <th></th>\n      <th></th>\n      <th></th>\n      <th></th>\n      <th></th>\n      <th></th>\n      <th></th>\n      <th></th>\n      <th></th>\n      <th></th>\n      <th></th>\n      <th></th>\n      <th></th>\n      <th></th>\n      <th></th>\n      <th></th>\n    </tr>\n  </thead>\n  <tbody>\n    <tr>\n      <th>Alabama</th>\n      <td>1997</td>\n      <td>16.870370</td>\n      <td>134.9</td>\n      <td>4368</td>\n      <td>143646</td>\n      <td>867264</td>\n      <td>524929</td>\n      <td>337431</td>\n      <td>310336</td>\n      <td>182204</td>\n      <td>...</td>\n      <td>AL</td>\n      <td>1</td>\n      <td>0</td>\n      <td>0</td>\n      <td>0</td>\n      <td>0</td>\n      <td>0</td>\n      <td>0</td>\n      <td>0</td>\n      <td>0</td>\n    </tr>\n    <tr>\n      <th>Arizona</th>\n      <td>1997</td>\n      <td>15.847222</td>\n      <td>71.8</td>\n      <td>4737</td>\n      <td>168550</td>\n      <td>369872</td>\n      <td>430092</td>\n      <td>137588</td>\n      <td>307623</td>\n      <td>16421</td>\n      <td>...</td>\n      <td>AZ</td>\n      <td>0</td>\n      <td>0</td>\n      <td>0</td>\n      <td>0</td>\n      <td>0</td>\n      <td>0</td>\n      <td>0</td>\n      <td>0</td>\n      <td>0</td>\n    </tr>\n    <tr>\n      <th>Arkansas</th>\n      <td>1997</td>\n      <td>15.365741</td>\n      <td>59.6</td>\n      <td>2601</td>\n      <td>82756</td>\n      <td>246786</td>\n      <td>320440</td>\n      <td>264019</td>\n      <td>149100</td>\n      <td>86884</td>\n      <td>...</td>\n      <td>AR</td>\n      <td>0</td>\n      <td>0</td>\n      <td>0</td>\n      <td>0</td>\n      <td>1</td>\n      <td>0</td>\n      <td>0</td>\n      <td>0</td>\n      <td>1</td>\n    </tr>\n    <tr>\n      <th>California</th>\n      <td>1997</td>\n      <td>15.064815</td>\n      <td>346.6</td>\n      <td>32486</td>\n      <td>1378654</td>\n      <td>82651</td>\n      <td>3292194</td>\n      <td>2185029</td>\n      <td>320194</td>\n      <td>158854</td>\n      <td>...</td>\n      <td>CA</td>\n      <td>2</td>\n      <td>0</td>\n      <td>1</td>\n      <td>0</td>\n      <td>0</td>\n      <td>0</td>\n      <td>0</td>\n      <td>0</td>\n      <td>1</td>\n    </tr>\n    <tr>\n      <th>Colorado</th>\n      <td>1997</td>\n      <td>7.134259</td>\n      <td>75.7</td>\n      <td>4018</td>\n      <td>184193</td>\n      <td>362423</td>\n      <td>371516</td>\n      <td>311900</td>\n      <td>0</td>\n      <td>17123</td>\n      <td>...</td>\n      <td>CO</td>\n      <td>0</td>\n      <td>0</td>\n      <td>0</td>\n      <td>0</td>\n      <td>0</td>\n      <td>0</td>\n      <td>0</td>\n      <td>0</td>\n      <td>0</td>\n    </tr>\n    <tr>\n      <th>...</th>\n      <td>...</td>\n      <td>...</td>\n      <td>...</td>\n      <td>...</td>\n      <td>...</td>\n      <td>...</td>\n      <td>...</td>\n      <td>...</td>\n      <td>...</td>\n      <td>...</td>\n      <td>...</td>\n      <td>...</td>\n      <td>...</td>\n      <td>...</td>\n      <td>...</td>\n      <td>...</td>\n      <td>...</td>\n      <td>...</td>\n      <td>...</td>\n      <td>...</td>\n      <td>...</td>\n    </tr>\n    <tr>\n      <th>Virginia</th>\n      <td>2018</td>\n      <td>13.648148</td>\n      <td>103.1</td>\n      <td>8501</td>\n      <td>477006</td>\n      <td>149349</td>\n      <td>776363</td>\n      <td>666852</td>\n      <td>305826</td>\n      <td>155471</td>\n      <td>...</td>\n      <td>VA</td>\n      <td>1</td>\n      <td>0</td>\n      <td>0</td>\n      <td>0</td>\n      <td>3</td>\n      <td>2</td>\n      <td>0</td>\n      <td>2</td>\n      <td>7</td>\n    </tr>\n    <tr>\n      <th>Washington</th>\n      <td>2018</td>\n      <td>8.916667</td>\n      <td>78.8</td>\n      <td>7524</td>\n      <td>511672</td>\n      <td>61166</td>\n      <td>801282</td>\n      <td>334776</td>\n      <td>101502</td>\n      <td>145868</td>\n      <td>...</td>\n      <td>WA</td>\n      <td>0</td>\n      <td>0</td>\n      <td>0</td>\n      <td>0</td>\n      <td>0</td>\n      <td>0</td>\n      <td>1</td>\n      <td>0</td>\n      <td>1</td>\n    </tr>\n    <tr>\n      <th>West Virginia</th>\n      <td>2018</td>\n      <td>11.833333</td>\n      <td>89.9</td>\n      <td>1804</td>\n      <td>71481</td>\n      <td>661760</td>\n      <td>218584</td>\n      <td>222889</td>\n      <td>0</td>\n      <td>20594</td>\n      <td>...</td>\n      <td>WV</td>\n      <td>0</td>\n      <td>0</td>\n      <td>0</td>\n      <td>0</td>\n      <td>1</td>\n      <td>0</td>\n      <td>0</td>\n      <td>0</td>\n      <td>1</td>\n    </tr>\n    <tr>\n      <th>Wisconsin</th>\n      <td>2018</td>\n      <td>6.226852</td>\n      <td>101.3</td>\n      <td>5807</td>\n      <td>301623</td>\n      <td>362077</td>\n      <td>543067</td>\n      <td>565280</td>\n      <td>105900</td>\n      <td>160969</td>\n      <td>...</td>\n      <td>WI</td>\n      <td>0</td>\n      <td>0</td>\n      <td>0</td>\n      <td>0</td>\n      <td>1</td>\n      <td>0</td>\n      <td>0</td>\n      <td>0</td>\n      <td>1</td>\n    </tr>\n    <tr>\n      <th>Wyoming</th>\n      <td>2018</td>\n      <td>5.782407</td>\n      <td>63.6</td>\n      <td>578</td>\n      <td>38040</td>\n      <td>455748</td>\n      <td>162553</td>\n      <td>174859</td>\n      <td>0</td>\n      <td>8368</td>\n      <td>...</td>\n      <td>WY</td>\n      <td>0</td>\n      <td>0</td>\n      <td>0</td>\n      <td>0</td>\n      <td>1</td>\n      <td>0</td>\n      <td>1</td>\n      <td>0</td>\n      <td>2</td>\n    </tr>\n  </tbody>\n</table>\n<p>1056 rows × 27 columns</p>\n</div>"
     },
     "metadata": {},
     "execution_count": 10
    }
   ],
   "source": [
    "#add in total from disasters\n",
    "vis_df[\"total_disasters\"]=vis_df[\"drought\"]+ vis_df[\"flooding\"]+ vis_df[\"freeze\"]+ vis_df[\"severe_storm\"]+ vis_df[\"tropical_cyclone\"]+vis_df[\"wildfire\"]+ vis_df[\"winter_storm\"]\n",
    "vis_df"
   ]
  },
  {
   "cell_type": "code",
   "execution_count": 11,
   "metadata": {},
   "outputs": [
    {
     "output_type": "execute_result",
     "data": {
      "text/plain": [
       "Index(['year', 'tempc', 'co2_emissions', 'population_thousands',\n",
       "       'rgdp_millions', 'pe_coal', 'pe_petroleum', 'pe_naturalgas',\n",
       "       'pe_nuclear', 're_biomass', 're_geothermal', 're_hydropower',\n",
       "       're_solar', 're_wind', 'PC 1', 'PC 2', 'PC 3', 'state_abb', 'Class',\n",
       "       'drought', 'flooding', 'freeze', 'severe_storm', 'tropical_cyclone',\n",
       "       'wildfire', 'winter_storm', 'total_disasters'],\n",
       "      dtype='object')"
      ]
     },
     "metadata": {},
     "execution_count": 11
    }
   ],
   "source": [
    "vis_df.columns"
   ]
  },
  {
   "cell_type": "code",
   "execution_count": 12,
   "metadata": {},
   "outputs": [
    {
     "output_type": "execute_result",
     "data": {
      "text/plain": [
       "               year      tempc  co2_emissions  population_thousands  \\\n",
       "state_name                                                            \n",
       "Alabama        1997  16.870370          134.9                  4368   \n",
       "Arizona        1997  15.847222           71.8                  4737   \n",
       "Arkansas       1997  15.365741           59.6                  2601   \n",
       "California     1997  15.064815          346.6                 32486   \n",
       "Colorado       1997   7.134259           75.7                  4018   \n",
       "...             ...        ...            ...                   ...   \n",
       "Virginia       2018  13.648148          103.1                  8501   \n",
       "Washington     2018   8.916667           78.8                  7524   \n",
       "West Virginia  2018  11.833333           89.9                  1804   \n",
       "Wisconsin      2018   6.226852          101.3                  5807   \n",
       "Wyoming        2018   5.782407           63.6                   578   \n",
       "\n",
       "               rgdp_millions  pe_coal  pe_petroleum  pe_naturalgas  \\\n",
       "state_name                                                           \n",
       "Alabama               143646   867264        524929         337431   \n",
       "Arizona               168550   369872        430092         137588   \n",
       "Arkansas               82756   246786        320440         264019   \n",
       "California           1378654    82651       3292194        2185029   \n",
       "Colorado              184193   362423        371516         311900   \n",
       "...                      ...      ...           ...            ...   \n",
       "Virginia              477006   149349        776363         666852   \n",
       "Washington            511672    61166        801282         334776   \n",
       "West Virginia          71481   661760        218584         222889   \n",
       "Wisconsin             301623   362077        543067         565280   \n",
       "Wyoming                38040   455748        162553         174859   \n",
       "\n",
       "               pe_nuclear  re_biomass  ...  Class  drought  flooding  freeze  \\\n",
       "state_name                             ...                                     \n",
       "Alabama            310336      182204  ...      1        0         0       0   \n",
       "Arizona            307623       16421  ...      0        0         0       0   \n",
       "Arkansas           149100       86884  ...      0        0         0       0   \n",
       "California         320194      158854  ...      2        0         1       0   \n",
       "Colorado                0       17123  ...      0        0         0       0   \n",
       "...                   ...         ...  ...    ...      ...       ...     ...   \n",
       "Virginia           305826      155471  ...      1        0         0       0   \n",
       "Washington         101502      145868  ...      0        0         0       0   \n",
       "West Virginia           0       20594  ...      0        0         0       0   \n",
       "Wisconsin          105900      160969  ...      0        0         0       0   \n",
       "Wyoming                 0        8368  ...      0        0         0       0   \n",
       "\n",
       "               severe_storm  tropical_cyclone  wildfire winter_storm  \\\n",
       "state_name                                                             \n",
       "Alabama                   0                 0         0            0   \n",
       "Arizona                   0                 0         0            0   \n",
       "Arkansas                  1                 0         0            0   \n",
       "California                0                 0         0            0   \n",
       "Colorado                  0                 0         0            0   \n",
       "...                     ...               ...       ...          ...   \n",
       "Virginia                  3                 2         0            2   \n",
       "Washington                0                 0         1            0   \n",
       "West Virginia             1                 0         0            0   \n",
       "Wisconsin                 1                 0         0            0   \n",
       "Wyoming                   1                 0         1            0   \n",
       "\n",
       "               total_disasters  total_pe  \n",
       "state_name                                \n",
       "Alabama                      0   2039960  \n",
       "Arizona                      0   1245175  \n",
       "Arkansas                     1    980345  \n",
       "California                   1   5880068  \n",
       "Colorado                     0   1045839  \n",
       "...                        ...       ...  \n",
       "Virginia                     7   1898390  \n",
       "Washington                   1   1298726  \n",
       "West Virginia                1   1103233  \n",
       "Wisconsin                    1   1576324  \n",
       "Wyoming                      2    793160  \n",
       "\n",
       "[1056 rows x 28 columns]"
      ],
      "text/html": "<div>\n<style scoped>\n    .dataframe tbody tr th:only-of-type {\n        vertical-align: middle;\n    }\n\n    .dataframe tbody tr th {\n        vertical-align: top;\n    }\n\n    .dataframe thead th {\n        text-align: right;\n    }\n</style>\n<table border=\"1\" class=\"dataframe\">\n  <thead>\n    <tr style=\"text-align: right;\">\n      <th></th>\n      <th>year</th>\n      <th>tempc</th>\n      <th>co2_emissions</th>\n      <th>population_thousands</th>\n      <th>rgdp_millions</th>\n      <th>pe_coal</th>\n      <th>pe_petroleum</th>\n      <th>pe_naturalgas</th>\n      <th>pe_nuclear</th>\n      <th>re_biomass</th>\n      <th>...</th>\n      <th>Class</th>\n      <th>drought</th>\n      <th>flooding</th>\n      <th>freeze</th>\n      <th>severe_storm</th>\n      <th>tropical_cyclone</th>\n      <th>wildfire</th>\n      <th>winter_storm</th>\n      <th>total_disasters</th>\n      <th>total_pe</th>\n    </tr>\n    <tr>\n      <th>state_name</th>\n      <th></th>\n      <th></th>\n      <th></th>\n      <th></th>\n      <th></th>\n      <th></th>\n      <th></th>\n      <th></th>\n      <th></th>\n      <th></th>\n      <th></th>\n      <th></th>\n      <th></th>\n      <th></th>\n      <th></th>\n      <th></th>\n      <th></th>\n      <th></th>\n      <th></th>\n      <th></th>\n      <th></th>\n    </tr>\n  </thead>\n  <tbody>\n    <tr>\n      <th>Alabama</th>\n      <td>1997</td>\n      <td>16.870370</td>\n      <td>134.9</td>\n      <td>4368</td>\n      <td>143646</td>\n      <td>867264</td>\n      <td>524929</td>\n      <td>337431</td>\n      <td>310336</td>\n      <td>182204</td>\n      <td>...</td>\n      <td>1</td>\n      <td>0</td>\n      <td>0</td>\n      <td>0</td>\n      <td>0</td>\n      <td>0</td>\n      <td>0</td>\n      <td>0</td>\n      <td>0</td>\n      <td>2039960</td>\n    </tr>\n    <tr>\n      <th>Arizona</th>\n      <td>1997</td>\n      <td>15.847222</td>\n      <td>71.8</td>\n      <td>4737</td>\n      <td>168550</td>\n      <td>369872</td>\n      <td>430092</td>\n      <td>137588</td>\n      <td>307623</td>\n      <td>16421</td>\n      <td>...</td>\n      <td>0</td>\n      <td>0</td>\n      <td>0</td>\n      <td>0</td>\n      <td>0</td>\n      <td>0</td>\n      <td>0</td>\n      <td>0</td>\n      <td>0</td>\n      <td>1245175</td>\n    </tr>\n    <tr>\n      <th>Arkansas</th>\n      <td>1997</td>\n      <td>15.365741</td>\n      <td>59.6</td>\n      <td>2601</td>\n      <td>82756</td>\n      <td>246786</td>\n      <td>320440</td>\n      <td>264019</td>\n      <td>149100</td>\n      <td>86884</td>\n      <td>...</td>\n      <td>0</td>\n      <td>0</td>\n      <td>0</td>\n      <td>0</td>\n      <td>1</td>\n      <td>0</td>\n      <td>0</td>\n      <td>0</td>\n      <td>1</td>\n      <td>980345</td>\n    </tr>\n    <tr>\n      <th>California</th>\n      <td>1997</td>\n      <td>15.064815</td>\n      <td>346.6</td>\n      <td>32486</td>\n      <td>1378654</td>\n      <td>82651</td>\n      <td>3292194</td>\n      <td>2185029</td>\n      <td>320194</td>\n      <td>158854</td>\n      <td>...</td>\n      <td>2</td>\n      <td>0</td>\n      <td>1</td>\n      <td>0</td>\n      <td>0</td>\n      <td>0</td>\n      <td>0</td>\n      <td>0</td>\n      <td>1</td>\n      <td>5880068</td>\n    </tr>\n    <tr>\n      <th>Colorado</th>\n      <td>1997</td>\n      <td>7.134259</td>\n      <td>75.7</td>\n      <td>4018</td>\n      <td>184193</td>\n      <td>362423</td>\n      <td>371516</td>\n      <td>311900</td>\n      <td>0</td>\n      <td>17123</td>\n      <td>...</td>\n      <td>0</td>\n      <td>0</td>\n      <td>0</td>\n      <td>0</td>\n      <td>0</td>\n      <td>0</td>\n      <td>0</td>\n      <td>0</td>\n      <td>0</td>\n      <td>1045839</td>\n    </tr>\n    <tr>\n      <th>...</th>\n      <td>...</td>\n      <td>...</td>\n      <td>...</td>\n      <td>...</td>\n      <td>...</td>\n      <td>...</td>\n      <td>...</td>\n      <td>...</td>\n      <td>...</td>\n      <td>...</td>\n      <td>...</td>\n      <td>...</td>\n      <td>...</td>\n      <td>...</td>\n      <td>...</td>\n      <td>...</td>\n      <td>...</td>\n      <td>...</td>\n      <td>...</td>\n      <td>...</td>\n      <td>...</td>\n    </tr>\n    <tr>\n      <th>Virginia</th>\n      <td>2018</td>\n      <td>13.648148</td>\n      <td>103.1</td>\n      <td>8501</td>\n      <td>477006</td>\n      <td>149349</td>\n      <td>776363</td>\n      <td>666852</td>\n      <td>305826</td>\n      <td>155471</td>\n      <td>...</td>\n      <td>1</td>\n      <td>0</td>\n      <td>0</td>\n      <td>0</td>\n      <td>3</td>\n      <td>2</td>\n      <td>0</td>\n      <td>2</td>\n      <td>7</td>\n      <td>1898390</td>\n    </tr>\n    <tr>\n      <th>Washington</th>\n      <td>2018</td>\n      <td>8.916667</td>\n      <td>78.8</td>\n      <td>7524</td>\n      <td>511672</td>\n      <td>61166</td>\n      <td>801282</td>\n      <td>334776</td>\n      <td>101502</td>\n      <td>145868</td>\n      <td>...</td>\n      <td>0</td>\n      <td>0</td>\n      <td>0</td>\n      <td>0</td>\n      <td>0</td>\n      <td>0</td>\n      <td>1</td>\n      <td>0</td>\n      <td>1</td>\n      <td>1298726</td>\n    </tr>\n    <tr>\n      <th>West Virginia</th>\n      <td>2018</td>\n      <td>11.833333</td>\n      <td>89.9</td>\n      <td>1804</td>\n      <td>71481</td>\n      <td>661760</td>\n      <td>218584</td>\n      <td>222889</td>\n      <td>0</td>\n      <td>20594</td>\n      <td>...</td>\n      <td>0</td>\n      <td>0</td>\n      <td>0</td>\n      <td>0</td>\n      <td>1</td>\n      <td>0</td>\n      <td>0</td>\n      <td>0</td>\n      <td>1</td>\n      <td>1103233</td>\n    </tr>\n    <tr>\n      <th>Wisconsin</th>\n      <td>2018</td>\n      <td>6.226852</td>\n      <td>101.3</td>\n      <td>5807</td>\n      <td>301623</td>\n      <td>362077</td>\n      <td>543067</td>\n      <td>565280</td>\n      <td>105900</td>\n      <td>160969</td>\n      <td>...</td>\n      <td>0</td>\n      <td>0</td>\n      <td>0</td>\n      <td>0</td>\n      <td>1</td>\n      <td>0</td>\n      <td>0</td>\n      <td>0</td>\n      <td>1</td>\n      <td>1576324</td>\n    </tr>\n    <tr>\n      <th>Wyoming</th>\n      <td>2018</td>\n      <td>5.782407</td>\n      <td>63.6</td>\n      <td>578</td>\n      <td>38040</td>\n      <td>455748</td>\n      <td>162553</td>\n      <td>174859</td>\n      <td>0</td>\n      <td>8368</td>\n      <td>...</td>\n      <td>0</td>\n      <td>0</td>\n      <td>0</td>\n      <td>0</td>\n      <td>1</td>\n      <td>0</td>\n      <td>1</td>\n      <td>0</td>\n      <td>2</td>\n      <td>793160</td>\n    </tr>\n  </tbody>\n</table>\n<p>1056 rows × 28 columns</p>\n</div>"
     },
     "metadata": {},
     "execution_count": 12
    }
   ],
   "source": [
    "#total primary nonrenewable energy sources\n",
    "vis_df[\"total_pe\"]=vis_df[\"pe_coal\"]+ vis_df[\"pe_petroleum\"]+ vis_df[\"pe_naturalgas\"]+ vis_df[\"pe_nuclear\"]\n",
    "vis_df"
   ]
  },
  {
   "cell_type": "code",
   "execution_count": 13,
   "metadata": {},
   "outputs": [
    {
     "output_type": "execute_result",
     "data": {
      "text/plain": [
       "               year      tempc  co2_emissions  population_thousands  \\\n",
       "state_name                                                            \n",
       "Alabama        1997  16.870370          134.9                  4368   \n",
       "Arizona        1997  15.847222           71.8                  4737   \n",
       "Arkansas       1997  15.365741           59.6                  2601   \n",
       "California     1997  15.064815          346.6                 32486   \n",
       "Colorado       1997   7.134259           75.7                  4018   \n",
       "...             ...        ...            ...                   ...   \n",
       "Virginia       2018  13.648148          103.1                  8501   \n",
       "Washington     2018   8.916667           78.8                  7524   \n",
       "West Virginia  2018  11.833333           89.9                  1804   \n",
       "Wisconsin      2018   6.226852          101.3                  5807   \n",
       "Wyoming        2018   5.782407           63.6                   578   \n",
       "\n",
       "               rgdp_millions  pe_coal  pe_petroleum  pe_naturalgas  \\\n",
       "state_name                                                           \n",
       "Alabama               143646   867264        524929         337431   \n",
       "Arizona               168550   369872        430092         137588   \n",
       "Arkansas               82756   246786        320440         264019   \n",
       "California           1378654    82651       3292194        2185029   \n",
       "Colorado              184193   362423        371516         311900   \n",
       "...                      ...      ...           ...            ...   \n",
       "Virginia              477006   149349        776363         666852   \n",
       "Washington            511672    61166        801282         334776   \n",
       "West Virginia          71481   661760        218584         222889   \n",
       "Wisconsin             301623   362077        543067         565280   \n",
       "Wyoming                38040   455748        162553         174859   \n",
       "\n",
       "               pe_nuclear  re_biomass  ...  drought  flooding  freeze  \\\n",
       "state_name                             ...                              \n",
       "Alabama            310336      182204  ...        0         0       0   \n",
       "Arizona            307623       16421  ...        0         0       0   \n",
       "Arkansas           149100       86884  ...        0         0       0   \n",
       "California         320194      158854  ...        0         1       0   \n",
       "Colorado                0       17123  ...        0         0       0   \n",
       "...                   ...         ...  ...      ...       ...     ...   \n",
       "Virginia           305826      155471  ...        0         0       0   \n",
       "Washington         101502      145868  ...        0         0       0   \n",
       "West Virginia           0       20594  ...        0         0       0   \n",
       "Wisconsin          105900      160969  ...        0         0       0   \n",
       "Wyoming                 0        8368  ...        0         0       0   \n",
       "\n",
       "               severe_storm  tropical_cyclone  wildfire  winter_storm  \\\n",
       "state_name                                                              \n",
       "Alabama                   0                 0         0             0   \n",
       "Arizona                   0                 0         0             0   \n",
       "Arkansas                  1                 0         0             0   \n",
       "California                0                 0         0             0   \n",
       "Colorado                  0                 0         0             0   \n",
       "...                     ...               ...       ...           ...   \n",
       "Virginia                  3                 2         0             2   \n",
       "Washington                0                 0         1             0   \n",
       "West Virginia             1                 0         0             0   \n",
       "Wisconsin                 1                 0         0             0   \n",
       "Wyoming                   1                 0         1             0   \n",
       "\n",
       "              total_disasters  total_pe  total_re  \n",
       "state_name                                         \n",
       "Alabama                     0   2039960    300019  \n",
       "Arizona                     0   1245175    143511  \n",
       "Arkansas                    1    980345    124045  \n",
       "California                  1   5880068    767380  \n",
       "Colorado                    0   1045839     38515  \n",
       "...                       ...       ...       ...  \n",
       "Virginia                    7   1898390    181483  \n",
       "Washington                  1   1298726    956795  \n",
       "West Virginia               1   1103233     53701  \n",
       "Wisconsin                   1   1576324    199558  \n",
       "Wyoming                     2    793160     54917  \n",
       "\n",
       "[1056 rows x 29 columns]"
      ],
      "text/html": "<div>\n<style scoped>\n    .dataframe tbody tr th:only-of-type {\n        vertical-align: middle;\n    }\n\n    .dataframe tbody tr th {\n        vertical-align: top;\n    }\n\n    .dataframe thead th {\n        text-align: right;\n    }\n</style>\n<table border=\"1\" class=\"dataframe\">\n  <thead>\n    <tr style=\"text-align: right;\">\n      <th></th>\n      <th>year</th>\n      <th>tempc</th>\n      <th>co2_emissions</th>\n      <th>population_thousands</th>\n      <th>rgdp_millions</th>\n      <th>pe_coal</th>\n      <th>pe_petroleum</th>\n      <th>pe_naturalgas</th>\n      <th>pe_nuclear</th>\n      <th>re_biomass</th>\n      <th>...</th>\n      <th>drought</th>\n      <th>flooding</th>\n      <th>freeze</th>\n      <th>severe_storm</th>\n      <th>tropical_cyclone</th>\n      <th>wildfire</th>\n      <th>winter_storm</th>\n      <th>total_disasters</th>\n      <th>total_pe</th>\n      <th>total_re</th>\n    </tr>\n    <tr>\n      <th>state_name</th>\n      <th></th>\n      <th></th>\n      <th></th>\n      <th></th>\n      <th></th>\n      <th></th>\n      <th></th>\n      <th></th>\n      <th></th>\n      <th></th>\n      <th></th>\n      <th></th>\n      <th></th>\n      <th></th>\n      <th></th>\n      <th></th>\n      <th></th>\n      <th></th>\n      <th></th>\n      <th></th>\n      <th></th>\n    </tr>\n  </thead>\n  <tbody>\n    <tr>\n      <th>Alabama</th>\n      <td>1997</td>\n      <td>16.870370</td>\n      <td>134.9</td>\n      <td>4368</td>\n      <td>143646</td>\n      <td>867264</td>\n      <td>524929</td>\n      <td>337431</td>\n      <td>310336</td>\n      <td>182204</td>\n      <td>...</td>\n      <td>0</td>\n      <td>0</td>\n      <td>0</td>\n      <td>0</td>\n      <td>0</td>\n      <td>0</td>\n      <td>0</td>\n      <td>0</td>\n      <td>2039960</td>\n      <td>300019</td>\n    </tr>\n    <tr>\n      <th>Arizona</th>\n      <td>1997</td>\n      <td>15.847222</td>\n      <td>71.8</td>\n      <td>4737</td>\n      <td>168550</td>\n      <td>369872</td>\n      <td>430092</td>\n      <td>137588</td>\n      <td>307623</td>\n      <td>16421</td>\n      <td>...</td>\n      <td>0</td>\n      <td>0</td>\n      <td>0</td>\n      <td>0</td>\n      <td>0</td>\n      <td>0</td>\n      <td>0</td>\n      <td>0</td>\n      <td>1245175</td>\n      <td>143511</td>\n    </tr>\n    <tr>\n      <th>Arkansas</th>\n      <td>1997</td>\n      <td>15.365741</td>\n      <td>59.6</td>\n      <td>2601</td>\n      <td>82756</td>\n      <td>246786</td>\n      <td>320440</td>\n      <td>264019</td>\n      <td>149100</td>\n      <td>86884</td>\n      <td>...</td>\n      <td>0</td>\n      <td>0</td>\n      <td>0</td>\n      <td>1</td>\n      <td>0</td>\n      <td>0</td>\n      <td>0</td>\n      <td>1</td>\n      <td>980345</td>\n      <td>124045</td>\n    </tr>\n    <tr>\n      <th>California</th>\n      <td>1997</td>\n      <td>15.064815</td>\n      <td>346.6</td>\n      <td>32486</td>\n      <td>1378654</td>\n      <td>82651</td>\n      <td>3292194</td>\n      <td>2185029</td>\n      <td>320194</td>\n      <td>158854</td>\n      <td>...</td>\n      <td>0</td>\n      <td>1</td>\n      <td>0</td>\n      <td>0</td>\n      <td>0</td>\n      <td>0</td>\n      <td>0</td>\n      <td>1</td>\n      <td>5880068</td>\n      <td>767380</td>\n    </tr>\n    <tr>\n      <th>Colorado</th>\n      <td>1997</td>\n      <td>7.134259</td>\n      <td>75.7</td>\n      <td>4018</td>\n      <td>184193</td>\n      <td>362423</td>\n      <td>371516</td>\n      <td>311900</td>\n      <td>0</td>\n      <td>17123</td>\n      <td>...</td>\n      <td>0</td>\n      <td>0</td>\n      <td>0</td>\n      <td>0</td>\n      <td>0</td>\n      <td>0</td>\n      <td>0</td>\n      <td>0</td>\n      <td>1045839</td>\n      <td>38515</td>\n    </tr>\n    <tr>\n      <th>...</th>\n      <td>...</td>\n      <td>...</td>\n      <td>...</td>\n      <td>...</td>\n      <td>...</td>\n      <td>...</td>\n      <td>...</td>\n      <td>...</td>\n      <td>...</td>\n      <td>...</td>\n      <td>...</td>\n      <td>...</td>\n      <td>...</td>\n      <td>...</td>\n      <td>...</td>\n      <td>...</td>\n      <td>...</td>\n      <td>...</td>\n      <td>...</td>\n      <td>...</td>\n      <td>...</td>\n    </tr>\n    <tr>\n      <th>Virginia</th>\n      <td>2018</td>\n      <td>13.648148</td>\n      <td>103.1</td>\n      <td>8501</td>\n      <td>477006</td>\n      <td>149349</td>\n      <td>776363</td>\n      <td>666852</td>\n      <td>305826</td>\n      <td>155471</td>\n      <td>...</td>\n      <td>0</td>\n      <td>0</td>\n      <td>0</td>\n      <td>3</td>\n      <td>2</td>\n      <td>0</td>\n      <td>2</td>\n      <td>7</td>\n      <td>1898390</td>\n      <td>181483</td>\n    </tr>\n    <tr>\n      <th>Washington</th>\n      <td>2018</td>\n      <td>8.916667</td>\n      <td>78.8</td>\n      <td>7524</td>\n      <td>511672</td>\n      <td>61166</td>\n      <td>801282</td>\n      <td>334776</td>\n      <td>101502</td>\n      <td>145868</td>\n      <td>...</td>\n      <td>0</td>\n      <td>0</td>\n      <td>0</td>\n      <td>0</td>\n      <td>0</td>\n      <td>1</td>\n      <td>0</td>\n      <td>1</td>\n      <td>1298726</td>\n      <td>956795</td>\n    </tr>\n    <tr>\n      <th>West Virginia</th>\n      <td>2018</td>\n      <td>11.833333</td>\n      <td>89.9</td>\n      <td>1804</td>\n      <td>71481</td>\n      <td>661760</td>\n      <td>218584</td>\n      <td>222889</td>\n      <td>0</td>\n      <td>20594</td>\n      <td>...</td>\n      <td>0</td>\n      <td>0</td>\n      <td>0</td>\n      <td>1</td>\n      <td>0</td>\n      <td>0</td>\n      <td>0</td>\n      <td>1</td>\n      <td>1103233</td>\n      <td>53701</td>\n    </tr>\n    <tr>\n      <th>Wisconsin</th>\n      <td>2018</td>\n      <td>6.226852</td>\n      <td>101.3</td>\n      <td>5807</td>\n      <td>301623</td>\n      <td>362077</td>\n      <td>543067</td>\n      <td>565280</td>\n      <td>105900</td>\n      <td>160969</td>\n      <td>...</td>\n      <td>0</td>\n      <td>0</td>\n      <td>0</td>\n      <td>1</td>\n      <td>0</td>\n      <td>0</td>\n      <td>0</td>\n      <td>1</td>\n      <td>1576324</td>\n      <td>199558</td>\n    </tr>\n    <tr>\n      <th>Wyoming</th>\n      <td>2018</td>\n      <td>5.782407</td>\n      <td>63.6</td>\n      <td>578</td>\n      <td>38040</td>\n      <td>455748</td>\n      <td>162553</td>\n      <td>174859</td>\n      <td>0</td>\n      <td>8368</td>\n      <td>...</td>\n      <td>0</td>\n      <td>0</td>\n      <td>0</td>\n      <td>1</td>\n      <td>0</td>\n      <td>1</td>\n      <td>0</td>\n      <td>2</td>\n      <td>793160</td>\n      <td>54917</td>\n    </tr>\n  </tbody>\n</table>\n<p>1056 rows × 29 columns</p>\n</div>"
     },
     "metadata": {},
     "execution_count": 13
    }
   ],
   "source": [
    "#Total renewable energy sources\n",
    "vis_df[\"total_re\"]=vis_df[\"re_biomass\"]+ vis_df[\"re_geothermal\"]+ vis_df[\"re_hydropower\"] + vis_df[\"re_solar\"]+ vis_df[\"re_wind\"]\n",
    "vis_df"
   ]
  },
  {
   "cell_type": "code",
   "execution_count": 14,
   "metadata": {},
   "outputs": [],
   "source": [
    "#Write to processed data file to use in visualizations\n",
    "vis_df.to_csv(\"../Resources/data_processed/combined_features.csv\")\n"
   ]
  },
  {
   "cell_type": "code",
   "execution_count": null,
   "metadata": {},
   "outputs": [],
   "source": []
  },
  {
   "cell_type": "code",
   "execution_count": null,
   "metadata": {},
   "outputs": [],
   "source": []
  }
 ],
 "metadata": {
  "kernelspec": {
   "name": "pythondata",
   "display_name": "Python 3.8.3 64-bit ('base': conda)"
  },
  "language_info": {
   "codemirror_mode": {
    "name": "ipython",
    "version": 3
   },
   "file_extension": ".py",
   "mimetype": "text/x-python",
   "name": "python",
   "nbconvert_exporter": "python",
   "pygments_lexer": "ipython3",
   "version": "3.8.3"
  }
 },
 "nbformat": 4,
 "nbformat_minor": 4
}